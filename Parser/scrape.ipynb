{
 "cells": [
  {
   "cell_type": "code",
   "execution_count": null,
   "metadata": {},
   "outputs": [],
   "source": [
    "#pip install Flask flask-restful"
   ]
  },
  {
   "cell_type": "code",
   "execution_count": 1,
   "metadata": {},
   "outputs": [],
   "source": [
    "import requests\n",
    "from bs4 import BeautifulSoup\n",
    "from urllib import parse\n",
    "from flask import Flask\n",
    "from flask_restful import Resource, Api, reqparse"
   ]
  },
  {
   "cell_type": "code",
   "execution_count": 2,
   "metadata": {},
   "outputs": [],
   "source": [
    "app = Flask(__name__)\n",
    "api = Api(app)"
   ]
  },
  {
   "cell_type": "code",
   "execution_count": null,
   "metadata": {},
   "outputs": [
    {
     "name": "stdout",
     "output_type": "stream",
     "text": [
      " * Serving Flask app \"__main__\" (lazy loading)\n",
      " * Environment: production\n",
      "   WARNING: This is a development server. Do not use it in a production deployment.\n",
      "   Use a production WSGI server instead.\n",
      " * Debug mode: on\n"
     ]
    },
    {
     "name": "stderr",
     "output_type": "stream",
     "text": [
      " * Running on http://127.0.0.1:5000/ (Press CTRL+C to quit)\n"
     ]
    }
   ],
   "source": [
    "class SteamSearch(Resource):\n",
    "    def put(self):\n",
    "        parser = reqparse.RequestParser()\n",
    "        parser.add_argument('term', required=True,\n",
    "                            help='A search term needs to be provided')\n",
    "        args = parser.parse_args()\n",
    "\n",
    "        formattedSearchTerm = parse.urlencode({'term': args.term})\n",
    "\n",
    "        r = requests.get(\n",
    "            f'https://store.steampowered.com/search/?{formattedSearchTerm}')\n",
    "\n",
    "        soup = BeautifulSoup(r.text, 'html.parser')\n",
    "\n",
    "        resultsRow = soup.find_all('a', {'class': 'search_result_row'})\n",
    "\n",
    "        results = []\n",
    "\n",
    "        for resultRow in resultsRow:\n",
    "            gameURL = resultRow.get('href')\n",
    "            title = resultRow.find('span', {'class': 'title'}).text\n",
    "            releaseDate = resultRow.find(\n",
    "                'div', {'class': 'search_released'}).text\n",
    "            imgURL = resultRow.select('div.search_capsule img')[0].get('src')\n",
    "            price = None\n",
    "            discountedPrice = None\n",
    "\n",
    "            if (resultRow.select('div.search_price span strike')):\n",
    "                price = resultRow.select('div.search_price span strike')[\n",
    "                    0].text.strip(' \\t\\n\\r')\n",
    "                if (resultRow.select('div.search_price')):\n",
    "                    rawDiscountPrice = resultRow.select(\n",
    "                        'div.search_price')[0].text.strip(' \\t\\n\\r')\n",
    "                    discountedPrice = rawDiscountPrice.replace(price, '')\n",
    "\n",
    "            results.append({\n",
    "                'gameURL': gameURL,\n",
    "                'title': title,\n",
    "                'releaseDate': releaseDate,\n",
    "                'imgURL': imgURL,\n",
    "                'price': price,\n",
    "                'discountedPrice': discountedPrice\n",
    "            })\n",
    "\n",
    "        return results\n",
    "\n",
    "\n",
    "api.add_resource(SteamSearch, '/steam_search')\n",
    "\n",
    "if __name__ == '__main__':\n",
    "    app.run(debug=True,use_reloader=False)"
   ]
  }
 ],
 "metadata": {
  "kernelspec": {
   "display_name": "Python 3",
   "language": "python",
   "name": "python3"
  },
  "language_info": {
   "codemirror_mode": {
    "name": "ipython",
    "version": 3
   },
   "file_extension": ".py",
   "mimetype": "text/x-python",
   "name": "python",
   "nbconvert_exporter": "python",
   "pygments_lexer": "ipython3",
   "version": "3.8.5"
  }
 },
 "nbformat": 4,
 "nbformat_minor": 4
}
