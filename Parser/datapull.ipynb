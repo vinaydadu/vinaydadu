{
 "cells": [
  {
   "cell_type": "code",
   "execution_count": null,
   "metadata": {},
   "outputs": [],
   "source": [
    "pip install bs4"
   ]
  },
  {
   "cell_type": "code",
   "execution_count": null,
   "metadata": {},
   "outputs": [],
   "source": [
    "import requests\n",
    "import urllib.request\n",
    "import json\n",
    "import time\n",
    "from bs4 import BeautifulSoup"
   ]
  },
  {
   "cell_type": "code",
   "execution_count": null,
   "metadata": {},
   "outputs": [],
   "source": [
    "data_infy = {}\n",
    "data_tcs = {}\n",
    "lsave=time.time()"
   ]
  },
  {
   "cell_type": "code",
   "execution_count": null,
   "metadata": {},
   "outputs": [],
   "source": [
    "def autoSave():\n",
    "\tglobal lsave\n",
    "\tcurr_time = time.time()\n",
    "\tif(curr_time >= lsave + 300):\n",
    "\t\twith open('infy','a+') as f:\n",
    "\t\t\tf.write(str(data_infy))\n",
    "\t\twith open('tcs','a+') as f:\n",
    "\t\t\tf.write(str(data_tcs))\n",
    "\t\tlsave = time.time()\n",
    "\t\tcombiner()\n",
    "\t\tprint(\"AutoSaved at : \"+ time.strftime('%Y-%m-%d %H:%M:%S',time.localtime(lsave)))"
   ]
  },
  {
   "cell_type": "code",
   "execution_count": null,
   "metadata": {},
   "outputs": [],
   "source": [
    "def import_web(ticker):\n",
    "    \"\"\"\n",
    "    :param ticker: Takes the company ticker\n",
    "    :return: Returns the HTML of the page\n",
    "    \"\"\"\n",
    "    url = 'https://www1.nseindia.com/live_market/dynaContent/live_watch/get_quote/GetQuote.jsp?symbol='+ticker+'&illiquid=0&smeFlag=0&itpFlag=0'\n",
    "    req = urllib.request.Request(url, headers={'User-Agent' : \"Chrome Browser\"}) \n",
    "    fp = urllib.request.urlopen(req, timeout=30)\n",
    "    mybytes = fp.read()\n",
    "    mystr = mybytes.decode(\"utf8\")\n",
    "    fp.close()\n",
    "    return mystr"
   ]
  },
  {
   "cell_type": "code",
   "execution_count": null,
   "metadata": {},
   "outputs": [],
   "source": [
    "def get_quote(ticker):\n",
    "    \"\"\"\n",
    "    :param ticker: Takes the company ticker\n",
    "    :return: None\n",
    "    \"\"\"\n",
    "    ticker = ticker.upper()\n",
    "    try:\n",
    "        \"\"\"fetches a UTF-8-encoded web page, and  extract some text from the HTML\"\"\"\n",
    "        string_html = import_web(ticker)\n",
    "        get_data(filter_data(string_html),ticker)\n",
    "    except Exception as e:\n",
    "        print(e)"
   ]
  },
  {
   "cell_type": "code",
   "execution_count": null,
   "metadata": {},
   "outputs": [],
   "source": [
    "def filter_data(string_html):          \n",
    "    searchString = '<div id=\"responseDiv\" style=\"display:none\">'\n",
    "    #assign: stores html tag to find where data starts\n",
    "    searchString2 = '</div>'\n",
    "    #stores:  stores html tag where  data end\n",
    "    sta = string_html.find(searchString)\n",
    "    # returns & store: find() method returns the lowest index of the substring (if found). If not found, it returns -1.\n",
    "    data = string_html[sta + 43:]\n",
    "    #returns & stores: skips 43 characters and stores the index of substring\n",
    "    end = data.find(searchString2)\n",
    "    # returns & store: find() method returns the lowest index of the substring (if found). If not found, it returns -1.\n",
    "    fdata = data[:end]\n",
    "    #fetch: stores the fetched data into fdata\n",
    "    stripped = fdata.strip()\n",
    "    #removes: blank spaces\n",
    "    return stripped"
   ]
  },
  {
   "cell_type": "code",
   "execution_count": null,
   "metadata": {},
   "outputs": [],
   "source": [
    "def get_data(stripped, company):\n",
    "    js = json.loads(stripped)\n",
    "    datajs = js['data'][0]\n",
    "    subdictionary = {}\n",
    "    subdictionary['1. open'] = datajs['open']\n",
    "    subdictionary['2. high'] = datajs['dayHigh']\n",
    "    subdictionary['3. low'] = datajs['dayLow']\n",
    "    subdictionary['4. close'] = datajs['lastPrice']\n",
    "    subdictionary['5. volume'] = datajs['totalTradedVolume']\n",
    "    if company == 'INFY':\n",
    "        print (\n",
    "            'Adding value at : ',\n",
    "            js['lastUpdateTime'],\n",
    "            ' to ',\n",
    "            company,\n",
    "            ' Price:',\n",
    "            datajs[\"lastPrice\"],\n",
    "            )\n",
    "        data_infy[js['lastUpdateTime']] = subdictionary\n",
    "    elif company == 'TCS':\n",
    "        print (\n",
    "            'Adding value at : ',\n",
    "            js['lastUpdateTime'],\n",
    "            ' to ',\n",
    "            company,\n",
    "            ' Price:',\n",
    "            datajs[\"lastPrice\"],\n",
    "            )\n",
    "        data_tcs[js['lastUpdateTime']] = subdictionary"
   ]
  },
  {
   "cell_type": "code",
   "execution_count": null,
   "metadata": {},
   "outputs": [],
   "source": [
    "def combiner():\n",
    "\tfile_names = ['infy','tcs']\n",
    "\n",
    "\tfor ticker in file_names:\n",
    "\t\tfinal = {}\n",
    "\n",
    "\t\twith open(ticker,'r') as f:\n",
    "\t\t\tdata = f.read()\n",
    "\t\tdata = data.replace(\"}{\",\"}split{\")\n",
    "\t\tsplittedData = data.split('split')\n",
    "\t\t\n",
    "\t\tfor dictionary in splittedData:\n",
    "\t\t\ttmp = json.loads(dictionary.replace(\"'\",'\"'))\n",
    "\t\t\tfor key in tmp.keys():\n",
    "\t\t\t\tfinal[key] = tmp[key]\n",
    "\t\n",
    "\t\tnewFileName = ticker\n",
    "\t\twith open(newFileName,'w') as fw:\n",
    "\t\t\tfw.write(str(final))\t"
   ]
  },
  {
   "cell_type": "code",
   "execution_count": null,
   "metadata": {},
   "outputs": [],
   "source": [
    "def main():\n",
    "\tt_list=['TCS','INFY']\n",
    "\ttry:\n",
    "\t\twhile(True):\n",
    "\t\t\tfor ticker in t_list:\n",
    "\t\t\t\tprint(\"Starting get_quote for \",ticker)\n",
    "\t\t\t\tget_quote(ticker)\n",
    "\t\t\tautoSave()\n",
    "\t\t\tprint(\"Taking a nap! Good Night\")\n",
    "\t\t\ttime.sleep(30)\n",
    "\t\t\tprint(\"\\n\\n\")\n",
    "\texcept Exception as e:\n",
    "\t\tprint(e)\n",
    "\tfinally:\n",
    "\t\twith open('infy','a+') as f:\n",
    "\t\t\tf.write(str(data_infy))\n",
    "\t\twith open('tcs','a+') as f:\n",
    "\t\t\tf.write(str(data_tcs))\n",
    "\t\tcombiner()\n",
    "        \n",
    "main()"
   ]
  },
  {
   "cell_type": "code",
   "execution_count": null,
   "metadata": {},
   "outputs": [],
   "source": []
  }
 ],
 "metadata": {
  "kernelspec": {
   "display_name": "Python 3",
   "language": "python",
   "name": "python3"
  },
  "language_info": {
   "codemirror_mode": {
    "name": "ipython",
    "version": 3
   },
   "file_extension": ".py",
   "mimetype": "text/x-python",
   "name": "python",
   "nbconvert_exporter": "python",
   "pygments_lexer": "ipython3",
   "version": "3.8.5"
  }
 },
 "nbformat": 4,
 "nbformat_minor": 4
}
