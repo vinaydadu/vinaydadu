{
 "cells": [
  {
   "cell_type": "code",
   "execution_count": null,
   "metadata": {},
   "outputs": [],
   "source": [
    "#pip install newspaper3k"
   ]
  },
  {
   "cell_type": "code",
   "execution_count": 17,
   "metadata": {},
   "outputs": [
    {
     "name": "stderr",
     "output_type": "stream",
     "text": [
      "[nltk_data] Downloading package punkt to\n",
      "[nltk_data]     C:\\Users\\LENOVO\\AppData\\Roaming\\nltk_data...\n",
      "[nltk_data]   Unzipping tokenizers\\punkt.zip.\n"
     ]
    },
    {
     "data": {
      "text/plain": [
       "True"
      ]
     },
     "execution_count": 17,
     "metadata": {},
     "output_type": "execute_result"
    }
   ],
   "source": [
    "from newspaper import Article\n",
    "import nltk\n",
    "nltk.download('punkt')"
   ]
  },
  {
   "cell_type": "code",
   "execution_count": 18,
   "metadata": {},
   "outputs": [],
   "source": [
    "#A new article from TOI\n",
    "url = \"https://economictimes.indiatimes.com/news/economy/indicators/gdp-contracts-7-3-in-fy21-as-q4-sees-1-6-growth-focus-shifts-to-second-waves-impact-on-q1/articleshow/83114362.cms\""
   ]
  },
  {
   "cell_type": "code",
   "execution_count": 19,
   "metadata": {},
   "outputs": [],
   "source": [
    "#For different language newspaper refer above table\n",
    "toi_article = Article(url, language=\"en\") # en for English"
   ]
  },
  {
   "cell_type": "code",
   "execution_count": 20,
   "metadata": {},
   "outputs": [],
   "source": [
    "#To download the article\n",
    "toi_article.download()"
   ]
  },
  {
   "cell_type": "code",
   "execution_count": 21,
   "metadata": {},
   "outputs": [],
   "source": [
    "#To parse the article\n",
    "toi_article.parse()"
   ]
  },
  {
   "cell_type": "code",
   "execution_count": 22,
   "metadata": {},
   "outputs": [],
   "source": [
    "#To perform natural language processing ie..nlp\n",
    "toi_article.nlp()"
   ]
  },
  {
   "cell_type": "code",
   "execution_count": 23,
   "metadata": {},
   "outputs": [
    {
     "name": "stdout",
     "output_type": "stream",
     "text": [
      "Article's Title:\n",
      "GDP contracts 7.3% in FY21 as Q4 sees 1.6% growth; focus shifts to second wave's impact on Q1\n",
      "n\n"
     ]
    }
   ],
   "source": [
    "#To extract title\n",
    "print(\"Article's Title:\")\n",
    "print(toi_article.title)\n",
    "print(\"n\")"
   ]
  },
  {
   "cell_type": "code",
   "execution_count": 24,
   "metadata": {},
   "outputs": [
    {
     "name": "stdout",
     "output_type": "stream",
     "text": [
      "Article's Text:\n",
      "India recorded a 1.6% growth in fourth quarter of 2020-21 fiscal indicating that an economic recovery was well underway before the second wave of the virus struck.The economy contracted by 7.3% for the entire year, better than what the second advance estimates had predicted. The growth in 2019-20 was 4%.Gross Value Added ( GVA ), which is a more accurate way of assessing the actual growth in the economy, contracted by 6.2% for the entire year.According to second advance estimates released in February, the economy was pegged to contract at 8 per cent compared to 4% growth in FY20.The better the estimated numbers have been driven by an exceptional performance by the construction sector which grew by 14% in Q4. Utilities which includes gas, electricity, water supply performed better with 9.1% growth. On the other hand services comprising hotels, trade, transport contracted by 2.3%.The third quarter GDP growth had turned positive registering 0.5% growth (revised upwards from 0.4% earlier) after a sharp contraction of nearly 24% and 7.5% in first and second quarter respectively.The economic momentum had picked up pace going into the fourth quarter with a number of high frequency indicators showing a turn around.Forecasts of economic growth for the first quarter of current fiscal have been trimmed due to the impact of the second wave of coronavirus. The recovery process that looked impressive initially has been hit by the second wave even though expert predict that it will be limited to the April-June quarter only.The RBI in its annual report said that the impact this time around may not be as hard as the first wave. A number of states have imposed local lockdowns and curfews to break the chain of transmission of the virus.The second wave could have an impact on the private consumption , a key driver of the economic activity . Unlike the first wave when the slowdown was led by a dent in production, experts believe that the severity of the second wave will harm consumption.Private spending will be hurt by mounting job losses and falling incomes.As cases now see a downward trend, the focus now shifts to calibrated easing of lockdowns and restarting the economic activity. How fast the country manages to vaccinate enough to at least reacha herd immunity will be a key to the recovery process.\n",
      "n\n"
     ]
    }
   ],
   "source": [
    "#To extract text\n",
    "print(\"Article's Text:\")\n",
    "print(toi_article.text)\n",
    "print(\"n\")"
   ]
  },
  {
   "cell_type": "code",
   "execution_count": 25,
   "metadata": {},
   "outputs": [
    {
     "name": "stdout",
     "output_type": "stream",
     "text": [
      "Article's Summary:\n",
      "India recorded a 1.6% growth in fourth quarter of 2020-21 fiscal indicating that an economic recovery was well underway before the second wave of the virus struck.The economy contracted by 7.3% for the entire year, better than what the second advance estimates had predicted.\n",
      "Utilities which includes gas, electricity, water supply performed better with 9.1% growth.\n",
      "The recovery process that looked impressive initially has been hit by the second wave even though expert predict that it will be limited to the April-June quarter only.The RBI in its annual report said that the impact this time around may not be as hard as the first wave.\n",
      "A number of states have imposed local lockdowns and curfews to break the chain of transmission of the virus.The second wave could have an impact on the private consumption , a key driver of the economic activity .\n",
      "How fast the country manages to vaccinate enough to at least reacha herd immunity will be a key to the recovery process.\n",
      "n\n"
     ]
    }
   ],
   "source": [
    "#To extract summary\n",
    "print(\"Article's Summary:\")\n",
    "print(toi_article.summary)\n",
    "print(\"n\")"
   ]
  },
  {
   "cell_type": "code",
   "execution_count": 26,
   "metadata": {},
   "outputs": [
    {
     "name": "stdout",
     "output_type": "stream",
     "text": [
      "Article's Keywords:\n",
      "['second', 'shifts', 'sees', 'gdp', 'waves', 'q1', 'fy21', 'quarter', 'economy', 'recovery', 'better', 'contracted', 'q4', 'wave', 'impact', 'growth', 'economic']\n"
     ]
    }
   ],
   "source": [
    "#To extract keywords\n",
    "print(\"Article's Keywords:\")\n",
    "print(toi_article.keywords)"
   ]
  },
  {
   "cell_type": "code",
   "execution_count": 28,
   "metadata": {},
   "outputs": [
    {
     "ename": "NameError",
     "evalue": "name 'newspaper3k' is not defined",
     "output_type": "error",
     "traceback": [
      "\u001b[1;31m---------------------------------------------------------------------------\u001b[0m",
      "\u001b[1;31mNameError\u001b[0m                                 Traceback (most recent call last)",
      "\u001b[1;32m<ipython-input-28-247de177d663>\u001b[0m in \u001b[0;36m<module>\u001b[1;34m\u001b[0m\n\u001b[1;32m----> 1\u001b[1;33m \u001b[0mnewspaper3k\u001b[0m\u001b[1;33m.\u001b[0m\u001b[0mhot\u001b[0m\u001b[1;33m(\u001b[0m\u001b[1;33m)\u001b[0m\u001b[1;33m\u001b[0m\u001b[1;33m\u001b[0m\u001b[0m\n\u001b[0m",
      "\u001b[1;31mNameError\u001b[0m: name 'newspaper3k' is not defined"
     ]
    }
   ],
   "source": [
    "newspaper3k.hot()"
   ]
  },
  {
   "cell_type": "code",
   "execution_count": null,
   "metadata": {},
   "outputs": [],
   "source": []
  }
 ],
 "metadata": {
  "kernelspec": {
   "display_name": "Python 3",
   "language": "python",
   "name": "python3"
  },
  "language_info": {
   "codemirror_mode": {
    "name": "ipython",
    "version": 3
   },
   "file_extension": ".py",
   "mimetype": "text/x-python",
   "name": "python",
   "nbconvert_exporter": "python",
   "pygments_lexer": "ipython3",
   "version": "3.8.5"
  }
 },
 "nbformat": 4,
 "nbformat_minor": 4
}
