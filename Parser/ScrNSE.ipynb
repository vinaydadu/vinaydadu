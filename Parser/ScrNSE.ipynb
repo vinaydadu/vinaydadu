{
 "cells": [
  {
   "cell_type": "code",
   "execution_count": 2,
   "metadata": {},
   "outputs": [
    {
     "name": "stdout",
     "output_type": "stream",
     "text": [
      "Collecting dirtyjson\n",
      "  Downloading dirtyjson-1.0.7.tar.gz (25 kB)\n",
      "Building wheels for collected packages: dirtyjson\n",
      "  Building wheel for dirtyjson (setup.py): started\n",
      "  Building wheel for dirtyjson (setup.py): finished with status 'done'\n",
      "  Created wheel for dirtyjson: filename=dirtyjson-1.0.7-py3-none-any.whl size=25217 sha256=44ba8104dc624c1494a7786c69c61a7c2015154cb970095a403d91f8a13c1bff\n",
      "  Stored in directory: c:\\users\\lenovo\\appdata\\local\\pip\\cache\\wheels\\75\\62\\07\\89501a02f787102b3111a8e1e6e306ca6eecfef7f2b75fdc4c\n",
      "Successfully built dirtyjson\n",
      "Installing collected packages: dirtyjson\n",
      "Successfully installed dirtyjson-1.0.7\n",
      "Note: you may need to restart the kernel to use updated packages.\n"
     ]
    }
   ],
   "source": [
    "#pip install dirtyjson"
   ]
  },
  {
   "cell_type": "code",
   "execution_count": 2,
   "metadata": {},
   "outputs": [],
   "source": [
    "import requests\n",
    "#import json\n",
    "import dirtyjson"
   ]
  },
  {
   "cell_type": "code",
   "execution_count": 3,
   "metadata": {},
   "outputs": [
    {
     "name": "stdout",
     "output_type": "stream",
     "text": [
      "1144\n",
      "807\n",
      "366\n",
      "2317\n"
     ]
    }
   ],
   "source": [
    "url = 'https://www1.nseindia.com/live_market/dynaContent/live_analysis/changePercentage.json'\n",
    "r = requests.get(url, headers={'User-Agent': 'Mozilla/5.0'})\n",
    "data = r.json()\n",
    "print(data['rows'][0]['advances'])\n",
    "print(data['rows'][0]['declines'])\n",
    "print(data['rows'][0]['unchanged'])\n",
    "print(data['rows'][0]['total'])"
   ]
  },
  {
   "cell_type": "code",
   "execution_count": null,
   "metadata": {},
   "outputs": [],
   "source": [
    "r = requests.get(url)\n",
    "#data = r.json() # doesn't work because JSON data has some mistakes"
   ]
  },
  {
   "cell_type": "code",
   "execution_count": null,
   "metadata": {},
   "outputs": [],
   "source": [
    "#text = r.text.strip()\n",
    "#print(text)\n",
    "#data = json.loads(text) # doesn't work because JSON data has some mistakes\n",
    "\n",
    "data = dirtyjson.loads(r.text)\n",
    "#print(data)"
   ]
  },
  {
   "cell_type": "code",
   "execution_count": null,
   "metadata": {},
   "outputs": [],
   "source": [
    "for item in data['rows']:\n",
    "    #print(item)\n",
    "    print(item.keys())\n",
    "    print(item['sym'])\n",
    "    print(item['desc'])\n",
    "    print(item['name'])\n",
    "    print(item['date'][:2], item['date'][2:4], item['date'][4:8])"
   ]
  }
 ],
 "metadata": {
  "kernelspec": {
   "display_name": "Python 3",
   "language": "python",
   "name": "python3"
  },
  "language_info": {
   "codemirror_mode": {
    "name": "ipython",
    "version": 3
   },
   "file_extension": ".py",
   "mimetype": "text/x-python",
   "name": "python",
   "nbconvert_exporter": "python",
   "pygments_lexer": "ipython3",
   "version": "3.8.5"
  }
 },
 "nbformat": 4,
 "nbformat_minor": 4
}
