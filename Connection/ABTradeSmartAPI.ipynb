{
 "cells": [
  {
   "cell_type": "code",
   "execution_count": 2,
   "metadata": {},
   "outputs": [
    {
     "name": "stdout",
     "output_type": "stream",
     "text": [
      "Collecting smartapi-python\n",
      "  Downloading smartapi-python-1.2.7.tar.gz (13 kB)\n",
      "Requirement already satisfied: requests>=2.18.4 in c:\\programdata\\anaconda3\\lib\\site-packages (from smartapi-python) (2.24.0)\n",
      "Requirement already satisfied: six>=1.11.0 in c:\\programdata\\anaconda3\\lib\\site-packages (from smartapi-python) (1.15.0)\n",
      "Requirement already satisfied: python-dateutil>=2.6.1 in c:\\programdata\\anaconda3\\lib\\site-packages (from smartapi-python) (2.8.1)\n",
      "Requirement already satisfied: urllib3!=1.25.0,!=1.25.1,<1.26,>=1.21.1 in c:\\programdata\\anaconda3\\lib\\site-packages (from requests>=2.18.4->smartapi-python) (1.25.11)\n",
      "Requirement already satisfied: certifi>=2017.4.17 in c:\\programdata\\anaconda3\\lib\\site-packages (from requests>=2.18.4->smartapi-python) (2020.6.20)\n",
      "Requirement already satisfied: idna<3,>=2.5 in c:\\programdata\\anaconda3\\lib\\site-packages (from requests>=2.18.4->smartapi-python) (2.10)\n",
      "Requirement already satisfied: chardet<4,>=3.0.2 in c:\\programdata\\anaconda3\\lib\\site-packages (from requests>=2.18.4->smartapi-python) (3.0.4)\n",
      "Building wheels for collected packages: smartapi-python\n",
      "  Building wheel for smartapi-python (setup.py): started\n",
      "  Building wheel for smartapi-python (setup.py): finished with status 'done'\n",
      "  Created wheel for smartapi-python: filename=smartapi_python-1.2.7-py3-none-any.whl size=14383 sha256=cd488b51cbcafae77e4257bdd9184826419d88a2a66921017dcc1171e4f6aab0\n",
      "  Stored in directory: c:\\users\\lenovo\\appdata\\local\\pip\\cache\\wheels\\65\\c8\\6e\\13776bfeadeaf0d0dfb884499177a8bc56517a88edc8b0272f\n",
      "Successfully built smartapi-python\n",
      "Installing collected packages: smartapi-python\n",
      "Successfully installed smartapi-python-1.2.7\n",
      "Note: you may need to restart the kernel to use updated packages.\n"
     ]
    }
   ],
   "source": [
    "#pip install smartapi-python\n",
    "#pip install websocket-client"
   ]
  },
  {
   "cell_type": "code",
   "execution_count": 12,
   "metadata": {},
   "outputs": [],
   "source": [
    "# package import statement\n",
    "#from smartapi import SmartConnect \n",
    "#or \n",
    "from smartapi.smartConnect import SmartConnect\n",
    "from smartapi import SmartWebSocket\n",
    "import smartapi.smartExceptions\n",
    "import time, json"
   ]
  },
  {
   "cell_type": "code",
   "execution_count": 14,
   "metadata": {},
   "outputs": [],
   "source": [
    "obj=SmartConnect(api_key=\"O56KWPd5\")"
   ]
  },
  {
   "cell_type": "code",
   "execution_count": 15,
   "metadata": {},
   "outputs": [],
   "source": [
    "data = obj.generateSession(\"V74292\",\"Vdad123$\")"
   ]
  },
  {
   "cell_type": "code",
   "execution_count": 16,
   "metadata": {},
   "outputs": [],
   "source": [
    "refreshToken= data['data']['refreshToken']"
   ]
  },
  {
   "cell_type": "code",
   "execution_count": 17,
   "metadata": {},
   "outputs": [
    {
     "data": {
      "text/plain": [
       "'09215396'"
      ]
     },
     "execution_count": 17,
     "metadata": {},
     "output_type": "execute_result"
    },
    {
     "name": "stdout",
     "output_type": "stream",
     "text": [
      "2021-05-29 16:24:58.684007 : Start task in the background\n",
      "{'task': 'hb', 'channel': '', 'token': '091671799', 'user': 'V74292', 'acctid': 'V74292'}\n",
      "HeartBeat Sending Failed\n"
     ]
    }
   ],
   "source": [
    "feedToken=obj.getfeedToken()\n",
    "feedToken"
   ]
  },
  {
   "cell_type": "code",
   "execution_count": 19,
   "metadata": {},
   "outputs": [],
   "source": [
    "# feed_token=092017047\n",
    "FEED_TOKEN=\"09215396\"\n",
    "CLIENT_CODE=\"V74292\"\n",
    "# token=\"mcx_fo|224395\"\n",
    "token=\"nse_cm|3045\"    #SAMPLE: nse_cm|2885&nse_cm|1594&nse_cm|11536&nse_cm|3045\n",
    "# token=\"mcx_fo|226745&mcx_fo|220822&mcx_fo|227182&mcx_fo|221599\"\n",
    "task=\"mw\"   # mw|sfi|dp"
   ]
  },
  {
   "cell_type": "code",
   "execution_count": 20,
   "metadata": {},
   "outputs": [
    {
     "data": {
      "text/plain": [
       "<smartapi.smartApiWebsocket.SmartWebSocket at 0x201c4c29520>"
      ]
     },
     "execution_count": 20,
     "metadata": {},
     "output_type": "execute_result"
    }
   ],
   "source": [
    "ss = SmartWebSocket(FEED_TOKEN, CLIENT_CODE)\n",
    "ss"
   ]
  },
  {
   "cell_type": "code",
   "execution_count": 21,
   "metadata": {},
   "outputs": [
    {
     "name": "stdout",
     "output_type": "stream",
     "text": [
      "__on_open################\n",
      "{'task': 'cn', 'channel': 'NONLM', 'token': '09215396', 'user': 'V74292', 'acctid': 'V74292'}\n",
      "2021-05-29 16:25:24.343730 : Start task in the background\n",
      "{'task': 'hb', 'channel': '', 'token': '09215396', 'user': 'V74292', 'acctid': 'V74292'}\n",
      "2021-05-29 16:25:28.697352 : Start task in the background\n",
      "{'task': 'hb', 'channel': '', 'token': '091671799', 'user': 'V74292', 'acctid': 'V74292'}\n",
      "HeartBeat Sending Failed\n",
      "2021-05-29 16:25:54.360959 : Start task in the background\n",
      "{'task': 'hb', 'channel': '', 'token': '09215396', 'user': 'V74292', 'acctid': 'V74292'}\n",
      "2021-05-29 16:25:58.710204 : Start task in the background\n",
      "{'task': 'hb', 'channel': '', 'token': '091671799', 'user': 'V74292', 'acctid': 'V74292'}\n",
      "HeartBeat Sending Failed\n",
      "2021-05-29 16:26:24.374293 : Start task in the background\n",
      "{'task': 'hb', 'channel': '', 'token': '09215396', 'user': 'V74292', 'acctid': 'V74292'}\n",
      "2021-05-29 16:26:28.713390 : Start task in the background\n",
      "{'task': 'hb', 'channel': '', 'token': '091671799', 'user': 'V74292', 'acctid': 'V74292'}\n",
      "HeartBeat Sending Failed\n",
      "2021-05-29 16:26:54.375133 : Start task in the background\n",
      "{'task': 'hb', 'channel': '', 'token': '09215396', 'user': 'V74292', 'acctid': 'V74292'}\n",
      "2021-05-29 16:26:58.726974 : Start task in the background\n",
      "{'task': 'hb', 'channel': '', 'token': '091671799', 'user': 'V74292', 'acctid': 'V74292'}\n",
      "HeartBeat Sending Failed\n",
      "2021-05-29 16:27:24.385643 : Start task in the background\n",
      "{'task': 'hb', 'channel': '', 'token': '09215396', 'user': 'V74292', 'acctid': 'V74292'}\n",
      "2021-05-29 16:27:28.728389 : Start task in the background\n",
      "{'task': 'hb', 'channel': '', 'token': '091671799', 'user': 'V74292', 'acctid': 'V74292'}\n",
      "HeartBeat Sending Failed\n",
      "2021-05-29 16:27:54.390595 : Start task in the background\n",
      "{'task': 'hb', 'channel': '', 'token': '09215396', 'user': 'V74292', 'acctid': 'V74292'}\n",
      "2021-05-29 16:27:58.735109 : Start task in the background\n",
      "{'task': 'hb', 'channel': '', 'token': '091671799', 'user': 'V74292', 'acctid': 'V74292'}\n",
      "HeartBeat Sending Failed\n",
      "2021-05-29 16:28:24.403539 : Start task in the background\n",
      "{'task': 'hb', 'channel': '', 'token': '09215396', 'user': 'V74292', 'acctid': 'V74292'}\n",
      "2021-05-29 16:28:28.738549 : Start task in the background\n",
      "{'task': 'hb', 'channel': '', 'token': '091671799', 'user': 'V74292', 'acctid': 'V74292'}\n",
      "HeartBeat Sending Failed\n",
      "2021-05-29 16:28:54.410117 : Start task in the background\n",
      "{'task': 'hb', 'channel': '', 'token': '09215396', 'user': 'V74292', 'acctid': 'V74292'}\n",
      "2021-05-29 16:28:58.743494 : Start task in the background\n",
      "{'task': 'hb', 'channel': '', 'token': '091671799', 'user': 'V74292', 'acctid': 'V74292'}\n",
      "HeartBeat Sending Failed\n",
      "2021-05-29 16:29:24.425558 : Start task in the background\n",
      "{'task': 'hb', 'channel': '', 'token': '09215396', 'user': 'V74292', 'acctid': 'V74292'}\n",
      "2021-05-29 16:29:28.746441 : Start task in the background\n",
      "{'task': 'hb', 'channel': '', 'token': '091671799', 'user': 'V74292', 'acctid': 'V74292'}\n",
      "HeartBeat Sending Failed\n",
      "2021-05-29 16:29:54.432385 : Start task in the background\n",
      "{'task': 'hb', 'channel': '', 'token': '09215396', 'user': 'V74292', 'acctid': 'V74292'}\n",
      "2021-05-29 16:29:58.752680 : Start task in the background\n",
      "{'task': 'hb', 'channel': '', 'token': '091671799', 'user': 'V74292', 'acctid': 'V74292'}\n",
      "HeartBeat Sending Failed\n",
      "2021-05-29 16:30:24.434721 : Start task in the background\n",
      "{'task': 'hb', 'channel': '', 'token': '09215396', 'user': 'V74292', 'acctid': 'V74292'}\n",
      "2021-05-29 16:30:28.758057 : Start task in the background\n",
      "{'task': 'hb', 'channel': '', 'token': '091671799', 'user': 'V74292', 'acctid': 'V74292'}\n",
      "HeartBeat Sending Failed\n",
      "2021-05-29 16:30:54.440993 : Start task in the background\n",
      "{'task': 'hb', 'channel': '', 'token': '09215396', 'user': 'V74292', 'acctid': 'V74292'}\n",
      "2021-05-29 16:30:58.774246 : Start task in the background\n",
      "{'task': 'hb', 'channel': '', 'token': '091671799', 'user': 'V74292', 'acctid': 'V74292'}\n",
      "HeartBeat Sending Failed\n",
      "2021-05-29 16:31:24.447680 : Start task in the background\n",
      "{'task': 'hb', 'channel': '', 'token': '09215396', 'user': 'V74292', 'acctid': 'V74292'}\n",
      "2021-05-29 16:31:28.782671 : Start task in the background\n",
      "{'task': 'hb', 'channel': '', 'token': '091671799', 'user': 'V74292', 'acctid': 'V74292'}\n",
      "HeartBeat Sending Failed\n",
      "2021-05-29 16:31:54.450440 : Start task in the background\n",
      "{'task': 'hb', 'channel': '', 'token': '09215396', 'user': 'V74292', 'acctid': 'V74292'}\n",
      "2021-05-29 16:31:58.790905 : Start task in the background\n",
      "{'task': 'hb', 'channel': '', 'token': '091671799', 'user': 'V74292', 'acctid': 'V74292'}\n",
      "HeartBeat Sending Failed\n",
      "2021-05-29 16:32:24.454922 : Start task in the background\n",
      "{'task': 'hb', 'channel': '', 'token': '09215396', 'user': 'V74292', 'acctid': 'V74292'}\n",
      "2021-05-29 16:32:28.806608 : Start task in the background\n",
      "{'task': 'hb', 'channel': '', 'token': '091671799', 'user': 'V74292', 'acctid': 'V74292'}\n",
      "HeartBeat Sending Failed\n",
      "2021-05-29 16:32:54.456301 : Start task in the background\n",
      "{'task': 'hb', 'channel': '', 'token': '09215396', 'user': 'V74292', 'acctid': 'V74292'}\n",
      "2021-05-29 16:32:58.809790 : Start task in the background\n",
      "{'task': 'hb', 'channel': '', 'token': '091671799', 'user': 'V74292', 'acctid': 'V74292'}\n",
      "HeartBeat Sending Failed\n",
      "2021-05-29 16:33:24.463689 : Start task in the background\n",
      "{'task': 'hb', 'channel': '', 'token': '09215396', 'user': 'V74292', 'acctid': 'V74292'}\n",
      "2021-05-29 16:33:28.814942 : Start task in the background\n",
      "{'task': 'hb', 'channel': '', 'token': '091671799', 'user': 'V74292', 'acctid': 'V74292'}\n",
      "HeartBeat Sending Failed\n",
      "2021-05-29 16:33:54.468523 : Start task in the background\n",
      "{'task': 'hb', 'channel': '', 'token': '09215396', 'user': 'V74292', 'acctid': 'V74292'}\n",
      "2021-05-29 16:33:58.821016 : Start task in the background\n",
      "{'task': 'hb', 'channel': '', 'token': '091671799', 'user': 'V74292', 'acctid': 'V74292'}\n",
      "HeartBeat Sending Failed\n",
      "Error info: \n",
      "\n"
     ]
    }
   ],
   "source": [
    "#printing tick data from AB onto Python..there could be a lag\n",
    "\n",
    "#def on_message(ws, message):\n",
    "#    print(\"Ticks: {}\".format(message))    \n",
    "def on_tick(ss, ticks):\n",
    "    print(ticks)\n",
    "    \n",
    "#def on_open(ws):\n",
    "#    print(\"on open\")\n",
    "#    ss.subscribe(task,token)\n",
    "def on_connect(ws, response):\n",
    "    print(\"on connect\")\n",
    "    ss.send_request(token)\n",
    "\n",
    "def on_error(ss, error):\n",
    "    print(error)\n",
    "    \n",
    "def on_close(ss):\n",
    "    print(\"Close\")\n",
    "def on_close(ss, code, reason):\n",
    "    print(\"on close\")\n",
    "    ss.stop()\n",
    "\n",
    "# Assign the callbacks.\n",
    "#ss._on_open = on_open\n",
    "ss.on_connect = on_connect\n",
    "\n",
    "#ss._on_message = on_message\n",
    "ss.on_ticks = on_tick\n",
    "\n",
    "ss._on_error = on_error\n",
    "\n",
    "#ss._on_close = on_close\n",
    "ss.on_close = on_close\n",
    "\n",
    "ss.connect()"
   ]
  },
  {
   "cell_type": "code",
   "execution_count": 22,
   "metadata": {},
   "outputs": [
    {
     "name": "stdout",
     "output_type": "stream",
     "text": [
      "The order id is: 210529000005215\n"
     ]
    }
   ],
   "source": [
    "#putting limit orders, need the Params to successfully place orders \n",
    "try:\n",
    "    orderparams = {\n",
    "        \"variety\": \"NORMAL\",\n",
    "        \"tradingsymbol\": \"SBIN-EQ\",\n",
    "        \"symboltoken\": \"3045\",\n",
    "        \"transactiontype\": \"BUY\",\n",
    "        \"exchange\": \"NSE\",\n",
    "        \"ordertype\": \"LIMIT\",\n",
    "        \"producttype\": \"DELIVERY\",\n",
    "        \"duration\": \"DAY\",\n",
    "        \"price\": \"400\",\n",
    "        \"squareoff\": \"0\",\n",
    "        \"stoploss\": \"0\",\n",
    "        \"quantity\": \"1\"\n",
    "        }\n",
    "    orderId=obj.placeOrder(orderparams)\n",
    "    print(\"The order id is: {}\".format(orderId))\n",
    "except Exception as e:\n",
    "    print(\"Order placement failed: {}\".format(e.message))"
   ]
  },
  {
   "cell_type": "code",
   "execution_count": 24,
   "metadata": {},
   "outputs": [
    {
     "name": "stdout",
     "output_type": "stream",
     "text": [
      "2021-05-29 16:34:54.496073 : Start task in the background\n",
      "{'task': 'hb', 'channel': '', 'token': '09215396', 'user': 'V74292', 'acctid': 'V74292'}\n",
      "HeartBeat Sending Failed\n",
      "2021-05-29 16:34:58.831930 : Start task in the background\n",
      "{'task': 'hb', 'channel': '', 'token': '091671799', 'user': 'V74292', 'acctid': 'V74292'}\n",
      "HeartBeat Sending Failed\n"
     ]
    }
   ],
   "source": [
    "#historical data\n",
    "try:\n",
    "    historicParam={\n",
    "    \"exchange\": \"NSE\",\n",
    "    \"symboltoken\": \"3045\",\n",
    "    \"interval\": \"FIVE_MINUTE\",\n",
    "    \"fromdate\": \"2021-05-25 09:00\", \n",
    "    \"todate\": \"2021-05-26 09:16\"\n",
    "    }\n",
    "    obj.getCandleData(historicParam)\n",
    "except Exception as e:\n",
    "    print(\"Historic Api failed: {}\".format(e.message))"
   ]
  },
  {
   "cell_type": "code",
   "execution_count": 25,
   "metadata": {},
   "outputs": [
    {
     "name": "stdout",
     "output_type": "stream",
     "text": [
      "Logout Successfull\n"
     ]
    }
   ],
   "source": [
    "#logout\n",
    "try:\n",
    "    logout=obj.terminateSession('Your Client Id')\n",
    "    print(\"Logout Successfull\")\n",
    "except Exception as e:\n",
    "    print(\"Logout failed: {}\".format(e.message))"
   ]
  }
 ],
 "metadata": {
  "kernelspec": {
   "display_name": "Python 3",
   "language": "python",
   "name": "python3"
  },
  "language_info": {
   "codemirror_mode": {
    "name": "ipython",
    "version": 3
   },
   "file_extension": ".py",
   "mimetype": "text/x-python",
   "name": "python",
   "nbconvert_exporter": "python",
   "pygments_lexer": "ipython3",
   "version": "3.8.5"
  }
 },
 "nbformat": 4,
 "nbformat_minor": 5
}
