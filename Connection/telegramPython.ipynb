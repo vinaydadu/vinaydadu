{
 "cells": [
  {
   "cell_type": "code",
   "execution_count": null,
   "metadata": {},
   "outputs": [],
   "source": [
    "#pip install telethon"
   ]
  },
  {
   "cell_type": "code",
   "execution_count": 18,
   "metadata": {},
   "outputs": [],
   "source": [
    "import configparser\n",
    "import json\n",
    "import asyncio\n",
    "import re\n",
    "\n",
    "from telethon import TelegramClient, events, sync\n",
    "from telethon.errors import SessionPasswordNeededError\n",
    "from telethon.tl.functions.channels import GetParticipantsRequest\n",
    "from telethon.tl.functions.messages import (GetHistoryRequest)\n",
    "from telethon.tl.types import ChannelParticipantsSearch\n",
    "from telethon.tl.types import (\n",
    "    PeerChannel\n",
    ")"
   ]
  },
  {
   "cell_type": "code",
   "execution_count": 19,
   "metadata": {},
   "outputs": [
    {
     "data": {
      "text/plain": [
       "<coroutine object TelegramBaseClient.connect at 0x0000029FBF1FA9C0>"
      ]
     },
     "execution_count": 19,
     "metadata": {},
     "output_type": "execute_result"
    }
   ],
   "source": [
    "api_id = 7696864\n",
    "api_hash = 'cb676a1ca2356357105ec1f79352cd7e'\n",
    "phone = '+917702079652'\n",
    "client = TelegramClient('vinaydadu', api_id, api_hash)\n",
    "client.connect()"
   ]
  },
  {
   "cell_type": "code",
   "execution_count": 20,
   "metadata": {},
   "outputs": [
    {
     "name": "stdout",
     "output_type": "stream",
     "text": [
      "Client Created\n",
      "User(id=1671851987, is_self=True, contact=False, mutual_contact=False, deleted=False, bot=False, bot_chat_history=False, bot_nochats=False, verified=False, restricted=False, min=False, bot_inline_geo=False, support=False, scam=False, apply_min_photo=True, fake=False, access_hash=3147050107481386786, first_name='Vinay', last_name=None, username='vinaydadu', phone='917702079652', photo=None, status=UserStatusOffline(was_online=datetime.datetime(2021, 9, 2, 14, 32, 10, tzinfo=datetime.timezone.utc)), bot_info_version=None, restriction_reason=[], bot_inline_placeholder=None, lang_code=None)\n"
     ]
    },
    {
     "name": "stderr",
     "output_type": "stream",
     "text": [
      "<ipython-input-20-e5c7676ba6e9>:4: RuntimeWarning: coroutine 'UserMethods.is_user_authorized' was never awaited\n",
      "  if not client.is_user_authorized():\n",
      "RuntimeWarning: Enable tracemalloc to get the object allocation traceback\n"
     ]
    }
   ],
   "source": [
    "await client.start()\n",
    "print(\"Client Created\")\n",
    "# Ensure you're authorized\n",
    "if not client.is_user_authorized():\n",
    "    client.send_code_request(phone)\n",
    "    try:\n",
    "        client.sign_in(phone, input('Enter the code: '))\n",
    "    except SessionPasswordNeededError:\n",
    "        client.sign_in(password=input('Password: '))\n",
    "\n",
    "me = await client.get_me()\n",
    "print(me)"
   ]
  },
  {
   "cell_type": "code",
   "execution_count": 21,
   "metadata": {},
   "outputs": [
    {
     "name": "stdout",
     "output_type": "stream",
     "text": [
      "enter entity(telegram URL or entity id):1253618110\n"
     ]
    }
   ],
   "source": [
    "user_input_channel = input(\"enter entity(telegram URL or entity id):\")\n",
    "\n",
    "if user_input_channel.isdigit():\n",
    "    entity = PeerChannel(int(user_input_channel))\n",
    "else:\n",
    "    entity = user_input_channel\n",
    "\n",
    "my_channel = await client.get_entity(entity)"
   ]
  },
  {
   "cell_type": "code",
   "execution_count": 22,
   "metadata": {},
   "outputs": [
    {
     "data": {
      "text/plain": [
       "<telethon.tl.types.Channel at 0x29fbf20abb0>"
      ]
     },
     "execution_count": 22,
     "metadata": {},
     "output_type": "execute_result"
    }
   ],
   "source": [
    "my_channel"
   ]
  },
  {
   "cell_type": "code",
   "execution_count": 24,
   "metadata": {},
   "outputs": [
    {
     "data": {
      "text/plain": [
       "<telethon.tl.types.Channel at 0x29fbf1a72b0>"
      ]
     },
     "execution_count": 24,
     "metadata": {},
     "output_type": "execute_result"
    }
   ],
   "source": [
    "entity = await client.get_entity(my_channel)\n",
    "entity"
   ]
  },
  {
   "cell_type": "code",
   "execution_count": 25,
   "metadata": {},
   "outputs": [
    {
     "data": {
      "text/plain": [
       "[<telethon.tl.patched.MessageService object at 0x0000029FBF1E6460>, total=1]"
      ]
     },
     "execution_count": 25,
     "metadata": {},
     "output_type": "execute_result"
    }
   ],
   "source": [
    "await client.get_messages('my_channel', 100)"
   ]
  },
  {
   "cell_type": "code",
   "execution_count": 27,
   "metadata": {},
   "outputs": [],
   "source": [
    "import datetime\n",
    "\n",
    "\n",
    "def date_format(message):\n",
    "    \"\"\"\n",
    "    :param message:\n",
    "    :return:\n",
    "    \"\"\"\n",
    "    if type(message) is datetime:\n",
    "        return message.strftime(\"%Y-%m-%d %H:%M:%S\")"
   ]
  },
  {
   "cell_type": "code",
   "execution_count": 28,
   "metadata": {},
   "outputs": [],
   "source": [
    "channel_dict = my_channel.to_dict()\n",
    "json = json.dumps(channel_dict,default=date_format)"
   ]
  },
  {
   "cell_type": "code",
   "execution_count": 29,
   "metadata": {},
   "outputs": [
    {
     "data": {
      "text/plain": [
       "'{\"_\": \"Channel\", \"id\": 1253618110, \"title\": \"OldTree\", \"photo\": {\"_\": \"ChatPhoto\", \"photo_id\": 6190332090688580695, \"dc_id\": 5, \"has_video\": false, \"stripped_thumb\": null}, \"date\": null, \"version\": 0, \"creator\": false, \"left\": false, \"broadcast\": true, \"verified\": false, \"megagroup\": false, \"restricted\": false, \"signatures\": false, \"min\": false, \"scam\": false, \"has_link\": false, \"has_geo\": false, \"slowmode_enabled\": false, \"call_active\": false, \"call_not_empty\": false, \"fake\": false, \"gigagroup\": false, \"access_hash\": -6584960761546391821, \"username\": null, \"restriction_reason\": [], \"admin_rights\": {\"_\": \"ChatAdminRights\", \"change_info\": true, \"post_messages\": true, \"edit_messages\": true, \"delete_messages\": true, \"ban_users\": true, \"invite_users\": true, \"pin_messages\": false, \"add_admins\": true, \"anonymous\": false, \"manage_call\": true, \"other\": true}, \"banned_rights\": null, \"default_banned_rights\": null, \"participants_count\": null}'"
      ]
     },
     "execution_count": 29,
     "metadata": {},
     "output_type": "execute_result"
    }
   ],
   "source": [
    "json"
   ]
  },
  {
   "cell_type": "code",
   "execution_count": 30,
   "metadata": {},
   "outputs": [
    {
     "data": {
      "text/plain": [
       "[<telethon.tl.custom.dialog.Dialog object at 0x0000029FBF1E6250>, <telethon.tl.custom.dialog.Dialog object at 0x0000029FBF220E50>, <telethon.tl.custom.dialog.Dialog object at 0x0000029FBF220FA0>, <telethon.tl.custom.dialog.Dialog object at 0x0000029FBF222160>, <telethon.tl.custom.dialog.Dialog object at 0x0000029FBF2222E0>, <telethon.tl.custom.dialog.Dialog object at 0x0000029FBF222460>, <telethon.tl.custom.dialog.Dialog object at 0x0000029FBF2225E0>, <telethon.tl.custom.dialog.Dialog object at 0x0000029FBF222760>, <telethon.tl.custom.dialog.Dialog object at 0x0000029FBF2228E0>, <telethon.tl.custom.dialog.Dialog object at 0x0000029FBF222A60>, <telethon.tl.custom.dialog.Dialog object at 0x0000029FBF222BE0>, <telethon.tl.custom.dialog.Dialog object at 0x0000029FBF222D60>, <telethon.tl.custom.dialog.Dialog object at 0x0000029FBF222EE0>, <telethon.tl.custom.dialog.Dialog object at 0x0000029FBF2240A0>, total=14]"
      ]
     },
     "execution_count": 30,
     "metadata": {},
     "output_type": "execute_result"
    }
   ],
   "source": [
    "await client.get_dialogs()"
   ]
  },
  {
   "cell_type": "code",
   "execution_count": 33,
   "metadata": {},
   "outputs": [
    {
     "ename": "AttributeError",
     "evalue": "'str' object has no attribute 'dumps'",
     "output_type": "error",
     "traceback": [
      "\u001b[1;31m---------------------------------------------------------------------------\u001b[0m",
      "\u001b[1;31mAttributeError\u001b[0m                            Traceback (most recent call last)",
      "\u001b[1;32m<ipython-input-33-f1791d5ee370>\u001b[0m in \u001b[0;36m<module>\u001b[1;34m\u001b[0m\n\u001b[0;32m      1\u001b[0m \u001b[0mchannel_dict_msg\u001b[0m \u001b[1;33m=\u001b[0m \u001b[0mmy_channel\u001b[0m\u001b[1;33m.\u001b[0m\u001b[0mto_dict\u001b[0m\u001b[1;33m(\u001b[0m\u001b[1;33m)\u001b[0m\u001b[1;33m\u001b[0m\u001b[1;33m\u001b[0m\u001b[0m\n\u001b[1;32m----> 2\u001b[1;33m \u001b[0mjson_str\u001b[0m \u001b[1;33m=\u001b[0m \u001b[0mjson\u001b[0m\u001b[1;33m.\u001b[0m\u001b[0mdumps\u001b[0m\u001b[1;33m(\u001b[0m\u001b[0mchannel_dict_msg\u001b[0m\u001b[1;33m,\u001b[0m\u001b[0mdefault\u001b[0m\u001b[1;33m=\u001b[0m\u001b[0mdate_format\u001b[0m\u001b[1;33m)\u001b[0m\u001b[1;33m\u001b[0m\u001b[1;33m\u001b[0m\u001b[0m\n\u001b[0m",
      "\u001b[1;31mAttributeError\u001b[0m: 'str' object has no attribute 'dumps'"
     ]
    }
   ],
   "source": [
    "channel_dict_msg = my_channel.to_dict()\n",
    "json_str = json.dumps(channel_dict_msg,default=date_format)"
   ]
  },
  {
   "cell_type": "code",
   "execution_count": 35,
   "metadata": {},
   "outputs": [
    {
     "name": "stdout",
     "output_type": "stream",
     "text": [
      "Current Offset ID is: 0 ; Total Messages: 0\n"
     ]
    },
    {
     "ename": "AttributeError",
     "evalue": "'coroutine' object has no attribute 'messages'",
     "output_type": "error",
     "traceback": [
      "\u001b[1;31m---------------------------------------------------------------------------\u001b[0m",
      "\u001b[1;31mAttributeError\u001b[0m                            Traceback (most recent call last)",
      "\u001b[1;32m<ipython-input-35-3a17a70c97d6>\u001b[0m in \u001b[0;36m<module>\u001b[1;34m\u001b[0m\n\u001b[0;32m     17\u001b[0m         \u001b[0mhash\u001b[0m\u001b[1;33m=\u001b[0m\u001b[1;36m0\u001b[0m\u001b[1;33m\u001b[0m\u001b[1;33m\u001b[0m\u001b[0m\n\u001b[0;32m     18\u001b[0m     ))\n\u001b[1;32m---> 19\u001b[1;33m     \u001b[1;32mif\u001b[0m \u001b[1;32mnot\u001b[0m \u001b[0mhistory\u001b[0m\u001b[1;33m.\u001b[0m\u001b[0mmessages\u001b[0m\u001b[1;33m:\u001b[0m\u001b[1;33m\u001b[0m\u001b[1;33m\u001b[0m\u001b[0m\n\u001b[0m\u001b[0;32m     20\u001b[0m         \u001b[1;32mbreak\u001b[0m\u001b[1;33m\u001b[0m\u001b[1;33m\u001b[0m\u001b[0m\n\u001b[0;32m     21\u001b[0m     \u001b[0mmessages\u001b[0m \u001b[1;33m=\u001b[0m \u001b[0mhistory\u001b[0m\u001b[1;33m.\u001b[0m\u001b[0mmessages\u001b[0m\u001b[1;33m\u001b[0m\u001b[1;33m\u001b[0m\u001b[0m\n",
      "\u001b[1;31mAttributeError\u001b[0m: 'coroutine' object has no attribute 'messages'"
     ]
    }
   ],
   "source": [
    "offset_id = 0\n",
    "limit = 100\n",
    "all_messages = []\n",
    "total_messages = 0\n",
    "total_count_limit = 0\n",
    "\n",
    "while True:\n",
    "    print(\"Current Offset ID is:\", offset_id, \"; Total Messages:\", total_messages)\n",
    "    history = client(GetHistoryRequest(\n",
    "        peer=my_channel,\n",
    "        offset_id=offset_id,\n",
    "        offset_date=None,\n",
    "        add_offset=0,\n",
    "        limit=limit,\n",
    "        max_id=0,\n",
    "        min_id=0,\n",
    "        hash=0\n",
    "    ))\n",
    "    if not history.messages:\n",
    "        break\n",
    "    messages = history.messages\n",
    "    for message in messages:\n",
    "        all_messages.append(message.to_dict())\n",
    "    offset_id = messages[len(messages) - 1].id\n",
    "    total_messages = len(all_messages)\n",
    "    if total_count_limit != 0 and total_messages >= total_count_limit:\n",
    "        break"
   ]
  },
  {
   "cell_type": "code",
   "execution_count": null,
   "metadata": {},
   "outputs": [],
   "source": []
  }
 ],
 "metadata": {
  "kernelspec": {
   "display_name": "Python 3",
   "language": "python",
   "name": "python3"
  },
  "language_info": {
   "codemirror_mode": {
    "name": "ipython",
    "version": 3
   },
   "file_extension": ".py",
   "mimetype": "text/x-python",
   "name": "python",
   "nbconvert_exporter": "python",
   "pygments_lexer": "ipython3",
   "version": "3.8.5"
  }
 },
 "nbformat": 4,
 "nbformat_minor": 4
}
