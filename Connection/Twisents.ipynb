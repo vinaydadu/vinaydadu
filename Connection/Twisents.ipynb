{
 "cells": [
  {
   "cell_type": "code",
   "execution_count": 1,
   "metadata": {},
   "outputs": [],
   "source": [
    "import os\n",
    "import tweepy as tw\n",
    "import pandas as pd\n",
    "import numpy as np\n",
    "from tweepy import OAuthHandler\n",
    "from tweepy import API\n",
    "from tweepy.streaming import StreamListener  # Used to listen to tweet based on keywords or hash tags"
   ]
  },
  {
   "cell_type": "code",
   "execution_count": 2,
   "metadata": {},
   "outputs": [],
   "source": [
    "auth = OAuthHandler('h32Odw2MJozqnxLe9vjHlfkBE', 'xL3J4uAJyyVo83dIK402huF02qbm45zKtNZfF6Vcrgh69p5uFk')\n",
    "auth.set_access_token('88952134-8L5hiOgm37cpWFV2nkjR8f0rqgHmfUxfig1NsK4lu','e01iHd7y6kwRlr1XICPMDR0D8OcVG3MccXarlt39x5jvD')\n",
    "api = tw.API(auth, wait_on_rate_limit=True)"
   ]
  },
  {
   "cell_type": "code",
   "execution_count": 5,
   "metadata": {},
   "outputs": [
    {
     "ename": "TweepError",
     "evalue": "Read-only application cannot POST.",
     "output_type": "error",
     "traceback": [
      "\u001b[1;31m---------------------------------------------------------------------------\u001b[0m",
      "\u001b[1;31mTweepError\u001b[0m                                Traceback (most recent call last)",
      "\u001b[1;32m<ipython-input-5-e09de8ed822e>\u001b[0m in \u001b[0;36m<module>\u001b[1;34m\u001b[0m\n\u001b[1;32m----> 1\u001b[1;33m \u001b[0mapi\u001b[0m\u001b[1;33m.\u001b[0m\u001b[0mupdate_status\u001b[0m\u001b[1;33m(\u001b[0m\u001b[1;34m\"Look, I'm tweeting from #Python in my #analytics session\"\u001b[0m\u001b[1;33m)\u001b[0m\u001b[1;33m\u001b[0m\u001b[1;33m\u001b[0m\u001b[0m\n\u001b[0m",
      "\u001b[1;32mC:\\ProgramData\\Anaconda3\\lib\\site-packages\\tweepy\\api.py\u001b[0m in \u001b[0;36mupdate_status\u001b[1;34m(self, *args, **kwargs)\u001b[0m\n\u001b[0;32m    203\u001b[0m             \u001b[0mkwargs\u001b[0m\u001b[1;33m[\u001b[0m\u001b[1;34m'media_ids'\u001b[0m\u001b[1;33m]\u001b[0m \u001b[1;33m=\u001b[0m \u001b[0mlist_to_csv\u001b[0m\u001b[1;33m(\u001b[0m\u001b[0mkwargs\u001b[0m\u001b[1;33m[\u001b[0m\u001b[1;34m'media_ids'\u001b[0m\u001b[1;33m]\u001b[0m\u001b[1;33m)\u001b[0m\u001b[1;33m\u001b[0m\u001b[1;33m\u001b[0m\u001b[0m\n\u001b[0;32m    204\u001b[0m \u001b[1;33m\u001b[0m\u001b[0m\n\u001b[1;32m--> 205\u001b[1;33m         return bind_api(\n\u001b[0m\u001b[0;32m    206\u001b[0m             \u001b[0mapi\u001b[0m\u001b[1;33m=\u001b[0m\u001b[0mself\u001b[0m\u001b[1;33m,\u001b[0m\u001b[1;33m\u001b[0m\u001b[1;33m\u001b[0m\u001b[0m\n\u001b[0;32m    207\u001b[0m             \u001b[0mpath\u001b[0m\u001b[1;33m=\u001b[0m\u001b[1;34m'/statuses/update.json'\u001b[0m\u001b[1;33m,\u001b[0m\u001b[1;33m\u001b[0m\u001b[1;33m\u001b[0m\u001b[0m\n",
      "\u001b[1;32mC:\\ProgramData\\Anaconda3\\lib\\site-packages\\tweepy\\binder.py\u001b[0m in \u001b[0;36m_call\u001b[1;34m(*args, **kwargs)\u001b[0m\n\u001b[0;32m    251\u001b[0m                 \u001b[1;32mreturn\u001b[0m \u001b[0mmethod\u001b[0m\u001b[1;33m\u001b[0m\u001b[1;33m\u001b[0m\u001b[0m\n\u001b[0;32m    252\u001b[0m             \u001b[1;32melse\u001b[0m\u001b[1;33m:\u001b[0m\u001b[1;33m\u001b[0m\u001b[1;33m\u001b[0m\u001b[0m\n\u001b[1;32m--> 253\u001b[1;33m                 \u001b[1;32mreturn\u001b[0m \u001b[0mmethod\u001b[0m\u001b[1;33m.\u001b[0m\u001b[0mexecute\u001b[0m\u001b[1;33m(\u001b[0m\u001b[1;33m)\u001b[0m\u001b[1;33m\u001b[0m\u001b[1;33m\u001b[0m\u001b[0m\n\u001b[0m\u001b[0;32m    254\u001b[0m         \u001b[1;32mfinally\u001b[0m\u001b[1;33m:\u001b[0m\u001b[1;33m\u001b[0m\u001b[1;33m\u001b[0m\u001b[0m\n\u001b[0;32m    255\u001b[0m             \u001b[0mmethod\u001b[0m\u001b[1;33m.\u001b[0m\u001b[0msession\u001b[0m\u001b[1;33m.\u001b[0m\u001b[0mclose\u001b[0m\u001b[1;33m(\u001b[0m\u001b[1;33m)\u001b[0m\u001b[1;33m\u001b[0m\u001b[1;33m\u001b[0m\u001b[0m\n",
      "\u001b[1;32mC:\\ProgramData\\Anaconda3\\lib\\site-packages\\tweepy\\binder.py\u001b[0m in \u001b[0;36mexecute\u001b[1;34m(self)\u001b[0m\n\u001b[0;32m    232\u001b[0m                     \u001b[1;32mraise\u001b[0m \u001b[0mRateLimitError\u001b[0m\u001b[1;33m(\u001b[0m\u001b[0merror_msg\u001b[0m\u001b[1;33m,\u001b[0m \u001b[0mresp\u001b[0m\u001b[1;33m)\u001b[0m\u001b[1;33m\u001b[0m\u001b[1;33m\u001b[0m\u001b[0m\n\u001b[0;32m    233\u001b[0m                 \u001b[1;32melse\u001b[0m\u001b[1;33m:\u001b[0m\u001b[1;33m\u001b[0m\u001b[1;33m\u001b[0m\u001b[0m\n\u001b[1;32m--> 234\u001b[1;33m                     \u001b[1;32mraise\u001b[0m \u001b[0mTweepError\u001b[0m\u001b[1;33m(\u001b[0m\u001b[0merror_msg\u001b[0m\u001b[1;33m,\u001b[0m \u001b[0mresp\u001b[0m\u001b[1;33m,\u001b[0m \u001b[0mapi_code\u001b[0m\u001b[1;33m=\u001b[0m\u001b[0mapi_error_code\u001b[0m\u001b[1;33m)\u001b[0m\u001b[1;33m\u001b[0m\u001b[1;33m\u001b[0m\u001b[0m\n\u001b[0m\u001b[0;32m    235\u001b[0m \u001b[1;33m\u001b[0m\u001b[0m\n\u001b[0;32m    236\u001b[0m             \u001b[1;31m# Parse the response payload\u001b[0m\u001b[1;33m\u001b[0m\u001b[1;33m\u001b[0m\u001b[1;33m\u001b[0m\u001b[0m\n",
      "\u001b[1;31mTweepError\u001b[0m: Read-only application cannot POST."
     ]
    }
   ],
   "source": [
    "#api.update_status(\"Look, I'm tweeting from #Python in my #analytics session\")"
   ]
  },
  {
   "cell_type": "code",
   "execution_count": 4,
   "metadata": {},
   "outputs": [
    {
     "name": "stdout",
     "output_type": "stream",
     "text": [
      "@AnilSinghvi_ ji @s_sedani05 ji  - Bought #bpcl @ 430. Should I book profit or wait for dividend?\n",
      "#BPCL \n",
      "\n",
      "At edge of big breakout 10 - 30% move.\n",
      "\n",
      "Keep on radar\n",
      "#BPCL - Let's hope, it close above 480 level. https://t.co/DVFlvbPuNl\n",
      "3 Days view: Buy #BPCL Fut above 482.70 for 514 SL below 572\n",
      "Can #BPCL Cash (476) Cross 482-486 Today???🤔❓\n",
      "ICICISecurities  BUY #BPCL at 544, Open 475, 52wk(488.00 - 325.00). Analyst acc perc./total (11.43 / 70). Week tren… https://t.co/s8uGnGdCmW\n",
      "Buy: #BPCL  Price: 473.9  Signal Date: 2021-06-03\n",
      "\n",
      "System generated signal, trade at your own risk\n",
      "#stocktips… https://t.co/e5ep1mloiV\n",
      "Happy Birthday Kochrefiners celebrating their special day on 04 June 2021. Thank you for being part of this unique… https://t.co/xdzGHIB9wY\n",
      "#BPCL - Looking for breakout in BPCL ''Pure Price Action\" - TradingView - https://t.co/tcDL206bJ0\n",
      "#BPCL - long bpcl  - TradingView - https://t.co/0RaQWnUQ3c\n",
      "#BPCL BUY MODE TGT 506/541 SL 466(CLBS) #frontpage_app https://t.co/ZagBViNCtV\n",
      "@BPCLimited HRS Admin/Finance Department of #BPCL refuse to publish #valuationlimitedtender  on #epublish on… https://t.co/prcHdU1Q2f\n",
      "NEWS ALERT\n",
      "#MATOICDAILY \n",
      "#Infosys #paytm #ITC #wipro #BPCL #adanigroup https://t.co/A11RvfYrRJ\n",
      "#Hold #BPCL as per #Technicals. #Nifty #Sensex\n",
      "\n",
      "It forms #BearishHarami #CandleStick pattern in the uptrend.\n",
      "\n",
      "it is… https://t.co/L7QO8CLVaz\n",
      "#ICMCBO Alert Sell #BPCL CMP: 475.5 Target: 0 SL: 0 #NimblrTA, These alerts are delayed and for demonstration. For… https://t.co/70vsnVfiTw\n",
      "Petroleum Minister launches multiple initiatives on Compressed BioGas\n",
      "https://t.co/WSfCqbZOMb\n",
      "\n",
      "#DharmendraPradhan… https://t.co/AcoVmqbIZn\n",
      "Such case is not first time, it is 7th time in last 6yrs. #bpcl\n",
      "Yday I received a cylinder at my home at 1pm and for cooking i was installing at 10pm and I noticed gas is leaking.… https://t.co/8OUsF8Yd48\n",
      "Buy: #BPCL  Price: 474.65  Signal Date: 2021-06-02\n",
      "\n",
      "System generated signal, trade at your own risk\n",
      "#stocktips… https://t.co/1KwQjobDhh\n",
      "Normally I don’t share an investment tip on social media, but will make an exception now.\n",
      "\n",
      "Buy Petrol@ 100-102/-\n",
      "Ta… https://t.co/JmxB3AAYug\n",
      "Happy Birthday  #Kochrefiners celebrating their special day on 03 June 2021. Thank you for being part of this uniqu… https://t.co/4FGwq1JSmI\n"
     ]
    },
    {
     "data": {
      "text/html": [
       "<div>\n",
       "<style scoped>\n",
       "    .dataframe tbody tr th:only-of-type {\n",
       "        vertical-align: middle;\n",
       "    }\n",
       "\n",
       "    .dataframe tbody tr th {\n",
       "        vertical-align: top;\n",
       "    }\n",
       "\n",
       "    .dataframe thead th {\n",
       "        text-align: right;\n",
       "    }\n",
       "</style>\n",
       "<table border=\"1\" class=\"dataframe\">\n",
       "  <thead>\n",
       "    <tr style=\"text-align: right;\">\n",
       "      <th></th>\n",
       "      <th>id</th>\n",
       "      <th>created_at</th>\n",
       "      <th>favorite_count</th>\n",
       "      <th>retweet_count</th>\n",
       "      <th>text</th>\n",
       "    </tr>\n",
       "  </thead>\n",
       "  <tbody>\n",
       "  </tbody>\n",
       "</table>\n",
       "</div>"
      ],
      "text/plain": [
       "Empty DataFrame\n",
       "Columns: [id, created_at, favorite_count, retweet_count, text]\n",
       "Index: []"
      ]
     },
     "execution_count": 4,
     "metadata": {},
     "output_type": "execute_result"
    }
   ],
   "source": [
    "# Define the search term and the date_since date as variables\n",
    "search_words = '#bpcl -filter:retweets'\n",
    "date_since = \"2021-06-03\"\n",
    "\n",
    "# Collect tweets\n",
    "tweets = tw.Cursor(api.search,\n",
    "              q=search_words,\n",
    "              lang=\"en\",\n",
    "              since=date_since).items(100)\n",
    "\n",
    "#Iterate and print tweets\n",
    "for tweet in tweets:\n",
    "    print(tweet.text)\n",
    "\n",
    "from pandas import DataFrame\n",
    "outtweets = [[tweet.id_str, \n",
    "              tweet.created_at, \n",
    "              tweet.favorite_count, \n",
    "              tweet.retweet_count, \n",
    "              tweet.full_text.encode(\"utf-8\").decode(\"utf-8\")] \n",
    "             for idx,tweet in enumerate(tweets)]\n",
    "df = DataFrame(outtweets,columns=[\"id\",\"created_at\",\"favorite_count\",\"retweet_count\", \"text\"])\n",
    "df.to_csv('%s_tweets.csv',index=False)\n",
    "df.head(99)\n",
    "    \n",
    "#tweet_ds = [[tweet.text for tweet in tweets], tweet.created_at, tweet.user.screen_name, tweet.user.location]\n",
    "\n",
    "#tweet_text = pd.DataFrame(tweet_ds)\n",
    "#tweet_text\n",
    "\n",
    "#users_locs = [[tweet.created_at, tweet.text, tweet.user.screen_name, tweet.user.location] for tweet in tweets]\n",
    "#print(users_locs)\n",
    "\n",
    "\n",
    "#tweet_text = pd.DataFrame(data=users_locs, \n",
    "#                    columns=['date','text','user','location'])\n",
    "#tweet_text"
   ]
  },
  {
   "cell_type": "code",
   "execution_count": null,
   "metadata": {},
   "outputs": [],
   "source": [
    "#def data_l2(q,k1,k2):\n",
    "#        data = []\n",
    "#        for results in q[k1]:\n",
    "#            data.append(results[k2])\n",
    "#        return(data)\n",
    "\n",
    "#screen_names = data_l2(tweets,\"statuses\",\"user\",\"screen_name\")\n",
    "\n",
    "#data = {'screen_names':screen_names,\n",
    "#       'tweets':tweets}\n",
    "\n",
    "#frame = pd.Dataframe(data)\n",
    "#frame\n",
    "\n",
    "#users_locs = [[tweet.user.screen_name, tweet.user.location] for tweet in tweets]\n",
    "#users_locs\n",
    "\n",
    "    # Collect a list of tweets\n",
    "#tweet_ds = [tweet.text for tweet in tweets]\n",
    "\n",
    "#tweet_text = pd.DataFrame(tweet_ds)\n",
    "\n",
    "\n",
    "#tweet_text['id'] = np.array([tweet.id for tweet in tweets])\n",
    "#tweet_text['date'] = np.array([tweet.created_at for tweet in tweets])\n",
    "#tweet_text['source'] = np.array([tweet.source for tweet in tweets])\n",
    "#tweet_text['likes'] = np.array([tweet.favorite_count for tweet in tweets])\n",
    "#tweet_text['retweets'] = np.array([tweet.retweet_count for tweet in tweets])\n",
    "\n",
    "#tweet_text"
   ]
  },
  {
   "cell_type": "code",
   "execution_count": 12,
   "metadata": {},
   "outputs": [
    {
     "ename": "AttributeError",
     "evalue": "'Status' object has no attribute 'full_text'",
     "output_type": "error",
     "traceback": [
      "\u001b[1;31m---------------------------------------------------------------------------\u001b[0m",
      "\u001b[1;31mAttributeError\u001b[0m                            Traceback (most recent call last)",
      "\u001b[1;32m<ipython-input-12-12ad3ed2d362>\u001b[0m in \u001b[0;36m<module>\u001b[1;34m\u001b[0m\n\u001b[1;32m----> 1\u001b[1;33m \u001b[0mtweet\u001b[0m\u001b[1;33m.\u001b[0m\u001b[0mfull_text\u001b[0m\u001b[1;33m.\u001b[0m\u001b[0mencode\u001b[0m\u001b[1;33m(\u001b[0m\u001b[1;34m\"utf-8\"\u001b[0m\u001b[1;33m)\u001b[0m\u001b[1;33m\u001b[0m\u001b[1;33m\u001b[0m\u001b[0m\n\u001b[0m",
      "\u001b[1;31mAttributeError\u001b[0m: 'Status' object has no attribute 'full_text'"
     ]
    }
   ],
   "source": [
    "tweet.full_text.encode(\"utf-8\")"
   ]
  }
 ],
 "metadata": {
  "kernelspec": {
   "display_name": "Python 3",
   "language": "python",
   "name": "python3"
  },
  "language_info": {
   "codemirror_mode": {
    "name": "ipython",
    "version": 3
   },
   "file_extension": ".py",
   "mimetype": "text/x-python",
   "name": "python",
   "nbconvert_exporter": "python",
   "pygments_lexer": "ipython3",
   "version": "3.8.5"
  }
 },
 "nbformat": 4,
 "nbformat_minor": 4
}
