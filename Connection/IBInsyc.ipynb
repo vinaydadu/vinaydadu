{
 "cells": [
  {
   "cell_type": "code",
   "execution_count": null,
   "metadata": {},
   "outputs": [],
   "source": [
    "#pip install ib_insync"
   ]
  },
  {
   "cell_type": "code",
   "execution_count": 1,
   "metadata": {},
   "outputs": [],
   "source": [
    "from distutils.core import setup\n",
    "from setuptools import setup\n",
    "import sys"
   ]
  },
  {
   "cell_type": "code",
   "execution_count": null,
   "metadata": {},
   "outputs": [],
   "source": [
    "#pip install ibapi"
   ]
  },
  {
   "cell_type": "code",
   "execution_count": 2,
   "metadata": {},
   "outputs": [],
   "source": [
    "from ib_insync import *\n",
    "util.startLoop()  # only use in interactive environments (i.e. Jupyter Notebooks)"
   ]
  },
  {
   "cell_type": "code",
   "execution_count": 3,
   "metadata": {},
   "outputs": [
    {
     "data": {
      "text/plain": [
       "<IB connected to 127.0.0.1:7497 clientId=1>"
      ]
     },
     "execution_count": 3,
     "metadata": {},
     "output_type": "execute_result"
    }
   ],
   "source": [
    "ib = IB()\n",
    "ib.connect('127.0.0.1', 7497)"
   ]
  },
  {
   "cell_type": "code",
   "execution_count": 11,
   "metadata": {},
   "outputs": [
    {
     "data": {
      "text/plain": [
       "[Position(account='DUC00074', contract=Stock(conId=333970434, symbol='ESGV', exchange='BATS', currency='USD', localSymbol='ESGV', tradingClass='ESGV'), position=1142.0, avgCost=52.7765556),\n",
       " Position(account='DUC00074', contract=Stock(conId=238760476, symbol='ESGD', exchange='NASDAQ', currency='USD', localSymbol='ESGD', tradingClass='NMS'), position=954.0, avgCost=64.1715282),\n",
       " Position(account='DUC00074', contract=Stock(conId=26653236, symbol='DVY', exchange='NASDAQ', currency='USD', localSymbol='DVY', tradingClass='NMS'), position=292.0, avgCost=101.06176745),\n",
       " Position(account='DUC00074', contract=Stock(conId=27638087, symbol='VO', exchange='ARCA', currency='USD', localSymbol='VO', tradingClass='VO'), position=50.0, avgCost=170.48881),\n",
       " Position(account='DUC00074', contract=Stock(conId=27684036, symbol='VDE', exchange='ARCA', currency='USD', localSymbol='VDE', tradingClass='VDE'), position=99.0, avgCost=81.962902),\n",
       " Position(account='DUC00074', contract=Stock(conId=225020107, symbol='TFI', exchange='ARCA', currency='USD', localSymbol='TFI', tradingClass='TFI'), position=1109.0, avgCost=50.50644005),\n",
       " Position(account='DUC00074', contract=Stock(conId=43645865, symbol='IBKR', exchange='NASDAQ', currency='USD', localSymbol='IBKR', tradingClass='NMS'), position=2800.0, avgCost=39.4058383),\n",
       " Position(account='DUC00074', contract=Stock(conId=26787475, symbol='TIP', exchange='ARCA', currency='USD', localSymbol='TIP', tradingClass='TIP'), position=207.0, avgCost=115.00465265),\n",
       " Position(account='DUC00074', contract=Stock(conId=46577293, symbol='BWX', exchange='ARCA', currency='USD', localSymbol='BWX', tradingClass='BWX'), position=712.0, avgCost=28.57725195),\n",
       " Position(account='DUC00074', contract=Stock(conId=15547816, symbol='LQD', exchange='ARCA', currency='USD', localSymbol='LQD', tradingClass='LQD'), position=99.0, avgCost=124.4389121),\n",
       " Position(account='DUC00074', contract=Stock(conId=313845618, symbol='ESML', exchange='BATS', currency='USD', localSymbol='ESML', tradingClass='ESML'), position=309.0, avgCost=27.38696345),\n",
       " Position(account='DUC00074', contract=Stock(conId=31230302, symbol='VNQ', exchange='ARCA', currency='USD', localSymbol='VNQ', tradingClass='VNQ'), position=137.0, avgCost=88.7322321),\n",
       " Position(account='DUC00074', contract=Stock(conId=238760480, symbol='ESGE', exchange='NASDAQ', currency='USD', localSymbol='ESGE', tradingClass='NMS'), position=1221.0, avgCost=33.994677),\n",
       " Position(account='DUC00074', contract=Stock(conId=338719585, symbol='EAGG', exchange='ARCA', currency='USD', localSymbol='EAGG', tradingClass='EAGG'), position=1280.0, avgCost=53.3022901),\n",
       " Position(account='DU3984598', contract=Stock(conId=212126639, symbol='INDIGO', exchange='NSE', currency='INR', localSymbol='INDIGO', tradingClass='INDIGO'), position=200.0, avgCost=1788.8716037450001)]"
      ]
     },
     "execution_count": 11,
     "metadata": {},
     "output_type": "execute_result"
    }
   ],
   "source": [
    "ib.positions()"
   ]
  },
  {
   "cell_type": "code",
   "execution_count": 4,
   "metadata": {},
   "outputs": [
    {
     "data": {
      "text/plain": [
       "<IB connected to 127.0.0.1:7499 clientId=1>"
      ]
     },
     "execution_count": 4,
     "metadata": {},
     "output_type": "execute_result"
    }
   ],
   "source": [
    "ibsom = IB()\n",
    "ibsom.connect('127.0.0.1', 7499)"
   ]
  },
  {
   "cell_type": "code",
   "execution_count": null,
   "metadata": {},
   "outputs": [],
   "source": [
    "ibsom.positions()"
   ]
  },
  {
   "cell_type": "code",
   "execution_count": null,
   "metadata": {},
   "outputs": [],
   "source": []
  },
  {
   "cell_type": "code",
   "execution_count": 8,
   "metadata": {},
   "outputs": [],
   "source": [
    "##ticker format\n",
    "usstocks = Stock('MSFT', 'SMART', 'USD')"
   ]
  },
  {
   "cell_type": "code",
   "execution_count": 9,
   "metadata": {},
   "outputs": [],
   "source": [
    "##order format\n",
    "msft_order = MarketOrder('BUY', 33)"
   ]
  },
  {
   "cell_type": "code",
   "execution_count": 10,
   "metadata": {},
   "outputs": [],
   "source": [
    "#place order\n",
    "trade = ibsom.placeOrder(usstocks, msft_order)"
   ]
  },
  {
   "cell_type": "code",
   "execution_count": 5,
   "metadata": {},
   "outputs": [],
   "source": [
    "nsestocks = Stock('INDIGO', 'NSE', 'INR')"
   ]
  },
  {
   "cell_type": "code",
   "execution_count": 6,
   "metadata": {},
   "outputs": [],
   "source": [
    "nse_order = MarketOrder('BUY', 200)"
   ]
  },
  {
   "cell_type": "code",
   "execution_count": 7,
   "metadata": {},
   "outputs": [],
   "source": [
    "tradense = ib.placeOrder(nsestocks, nse_order)"
   ]
  },
  {
   "cell_type": "code",
   "execution_count": null,
   "metadata": {},
   "outputs": [],
   "source": []
  },
  {
   "cell_type": "code",
   "execution_count": null,
   "metadata": {},
   "outputs": [],
   "source": [
    "ib.qualifyContracts(nsestocks)"
   ]
  },
  {
   "cell_type": "code",
   "execution_count": null,
   "metadata": {},
   "outputs": [],
   "source": [
    "data = ib.reqMktData(nsestocks)"
   ]
  },
  {
   "cell_type": "code",
   "execution_count": null,
   "metadata": {},
   "outputs": [],
   "source": [
    "data.marketPrice()"
   ]
  },
  {
   "cell_type": "code",
   "execution_count": null,
   "metadata": {},
   "outputs": [],
   "source": [
    "eur_usd_contract = Forex('EURUSD', 'IDEALPRO')"
   ]
  },
  {
   "cell_type": "code",
   "execution_count": null,
   "metadata": {},
   "outputs": [],
   "source": [
    "ib.qualifyContracts(eur_usd_contract)"
   ]
  },
  {
   "cell_type": "code",
   "execution_count": null,
   "metadata": {},
   "outputs": [],
   "source": [
    "historical_data_nflx = ib.reqHistoricalData(\n",
    "    nsestocks, \n",
    "    '', \n",
    "    barSizeSetting='15 mins', \n",
    "    durationStr='2 D', \n",
    "    whatToShow='MIDPOINT', \n",
    "    useRTH=True\n",
    "    )"
   ]
  },
  {
   "cell_type": "code",
   "execution_count": null,
   "metadata": {},
   "outputs": [],
   "source": [
    "type(historical_data_nflx)"
   ]
  },
  {
   "cell_type": "code",
   "execution_count": null,
   "metadata": {},
   "outputs": [],
   "source": [
    "historical_data_nflx[-1]"
   ]
  },
  {
   "cell_type": "code",
   "execution_count": null,
   "metadata": {},
   "outputs": [],
   "source": [
    "util.df(historical_data_nflx)"
   ]
  },
  {
   "cell_type": "code",
   "execution_count": null,
   "metadata": {},
   "outputs": [],
   "source": []
  },
  {
   "cell_type": "code",
   "execution_count": null,
   "metadata": {},
   "outputs": [],
   "source": []
  },
  {
   "cell_type": "code",
   "execution_count": null,
   "metadata": {},
   "outputs": [],
   "source": [
    "trade.orderStatus.status"
   ]
  },
  {
   "cell_type": "code",
   "execution_count": null,
   "metadata": {},
   "outputs": [],
   "source": [
    "for _ in range(100):\n",
    "    if not trade.isActive():\n",
    "        print(f'Your order status - {trade.orderStatus.status}')\n",
    "        break\n",
    "    time.sleep(0.5)\n",
    "else:\n",
    "    print('Order is still active')"
   ]
  },
  {
   "cell_type": "code",
   "execution_count": null,
   "metadata": {},
   "outputs": [],
   "source": []
  },
  {
   "cell_type": "code",
   "execution_count": null,
   "metadata": {},
   "outputs": [],
   "source": []
  },
  {
   "cell_type": "code",
   "execution_count": null,
   "metadata": {},
   "outputs": [],
   "source": []
  }
 ],
 "metadata": {
  "kernelspec": {
   "display_name": "Python 3",
   "language": "python",
   "name": "python3"
  },
  "language_info": {
   "codemirror_mode": {
    "name": "ipython",
    "version": 3
   },
   "file_extension": ".py",
   "mimetype": "text/x-python",
   "name": "python",
   "nbconvert_exporter": "python",
   "pygments_lexer": "ipython3",
   "version": "3.8.5"
  }
 },
 "nbformat": 4,
 "nbformat_minor": 4
}
