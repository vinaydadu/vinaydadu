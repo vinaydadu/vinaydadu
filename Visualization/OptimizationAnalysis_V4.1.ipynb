{
 "cells": [
  {
   "cell_type": "code",
   "execution_count": null,
   "metadata": {},
   "outputs": [],
   "source": [
    "import pandas as pd\n",
    "import plotly\n",
    "import plotly.graph_objs as go\n",
    "from plotly.subplots import make_subplots\n",
    "import numpy as np\n",
    "pd.options.display.float_format = '{:,.3f}'.format\n",
    "import warnings \n",
    "warnings.simplefilter (\"ignore\")\n",
    "pd.set_option('display.max_columns', None)\n",
    "pd.options.display.max_rows = 100"
   ]
  },
  {
   "cell_type": "markdown",
   "metadata": {},
   "source": [
    "### <center> Importing and cleaning of the data"
   ]
  },
  {
   "cell_type": "code",
   "execution_count": null,
   "metadata": {},
   "outputs": [],
   "source": [
    "fpath = r'V4.2_TATASTEEL_AUG-FEB_20210309.csv'\n",
    "opt_df = pd.read_csv(fpath)\n",
    "len(opt_df)"
   ]
  },
  {
   "cell_type": "code",
   "execution_count": null,
   "metadata": {},
   "outputs": [],
   "source": [
    "opt_df.columns"
   ]
  },
  {
   "cell_type": "code",
   "execution_count": null,
   "metadata": {},
   "outputs": [],
   "source": [
    "results_df = opt_df[['Net % Profit', 'Max. Sys % Drawdown','# Trades', '% of Winners', 'Ulcer Index', \n",
    "                     'Standard Error',  'nbars', 'minrangeperc', 'gaprangeperc', 'extrngmultiplier', \n",
    "                     'extrngpercmultiplier', 'pbsl_multiplier', 'voltimes', 'gaprngextrngval', 'addlentrycushion', \n",
    "                     'addlslcushion', 'trendbars', 'noshortval', 'nolongval']]\n",
    "\n",
    "results_df['extbars'] = results_df['nbars']*results_df['extrngmultiplier']\n",
    "results_df['maxrngperc'] = results_df['minrangeperc'] + results_df['gaprangeperc']\n",
    "results_df['minextrngperc'] = results_df['minrangeperc'] * results_df['extrngpercmultiplier']\n",
    "results_df['adjUI'] = results_df['Ulcer Index']*-1\n",
    "results_df['adjstderr'] = results_df['Standard Error']*-1\n",
    "results_df['% of Winners'] = results_df['% of Winners'].replace('-nan(ind)', '0')\n",
    "results_df['% of Winners'] = results_df['% of Winners'].astype('float64')\n",
    "results_df['profitcolor'] = ''\n",
    "results_df['profitcolor'][results_df['Net % Profit']>=0]='green'\n",
    "results_df['profitcolor'][results_df['profitcolor']=='']='red'\n",
    "\n",
    "len(results_df)"
   ]
  },
  {
   "cell_type": "markdown",
   "metadata": {},
   "source": [
    "### <center> Verifying the variable Inputs"
   ]
  },
  {
   "cell_type": "code",
   "execution_count": null,
   "metadata": {},
   "outputs": [],
   "source": [
    "## results_df = results_df[results_df['# Trades']< 5]\n",
    "\n",
    "print('Variable                     Min        Max        Step')\n",
    "print('========                     ===        ===        ====')\n",
    "\n",
    "## nbars\n",
    "mnbars = results_df['nbars'].min()\n",
    "mxbars = results_df['nbars'].max()\n",
    "distbars = len(results_df['nbars'].unique())\n",
    "incrbars = (mxbars - mnbars)/(distbars-1)\n",
    "print('nbars                   :    ' + str(mnbars) + '         '+ str(mxbars)  + '         '+ str(incrbars) )\n",
    "\n",
    "\n",
    "## mnrangeperc\n",
    "mnminrangeperc = results_df['minrangeperc'].min()\n",
    "mxminrangeperc = results_df['minrangeperc'].max()\n",
    "distminrangeperc = len(results_df['minrangeperc'].unique())\n",
    "incrminrangeperc = (mxminrangeperc - mnminrangeperc)/(distminrangeperc-1)\n",
    "print('minrangeperc            :    ' + str(mnminrangeperc) + '        '+ str(mxminrangeperc)  + '        '+ \n",
    "      str(incrminrangeperc) )\n",
    "\n",
    "## gaprangeperc\n",
    "mngaprangeperc  = results_df['gaprangeperc'].min()\n",
    "mxgaprangeperc = results_df['gaprangeperc'].max()\n",
    "distgaprangeperc = len(results_df['gaprangeperc'].unique())\n",
    "incrgaprangeperc = (mxgaprangeperc - mngaprangeperc)/(distgaprangeperc-1)\n",
    "print('gaprngperc              :    ' + str(mngaprangeperc) + '        '+ str(mxgaprangeperc)  + '        '+ \n",
    "      str(incrgaprangeperc) )\n",
    "\n",
    "\n",
    "## extrngmultiplier\n",
    "mnextrngmultiplier  = results_df['extrngmultiplier'].min()\n",
    "mxextrngmultiplier  = results_df['extrngmultiplier'].max()\n",
    "distextrngmultiplier  = len(results_df['extrngmultiplier'].unique())\n",
    "incrextrngmultiplier = (mxextrngmultiplier - mnextrngmultiplier)/(distextrngmultiplier-1)\n",
    "print('extbars                 :    ' + str(mnextrngmultiplier) + '        '+ str(mxextrngmultiplier)  + '        '+ \n",
    "      str(incrextrngmultiplier) )\n",
    "\n",
    "\n",
    "## extrngpercmultiplier\n",
    "mnextrngpercmultiplier  = results_df['extrngpercmultiplier'].min()\n",
    "mxextrngpercmultiplier  = results_df['extrngpercmultiplier'].max()\n",
    "distextrngpercmultiplier  = len(results_df['extrngpercmultiplier'].unique())\n",
    "incrextrngpercmultiplier = (mxextrngpercmultiplier - mnextrngpercmultiplier)/(distextrngpercmultiplier-1)\n",
    "print('extrngpercmultiplier    :    ' + str(mnextrngpercmultiplier) + '        '+ str(mxextrngpercmultiplier)  + '        '+ \n",
    "      str(incrextrngpercmultiplier) )\n",
    "\n",
    "\n",
    "## pbsl_multiplier - risk reward ratio (generally taken at 1:2+)\n",
    "mnpbsl_multiplier = results_df['pbsl_multiplier'].min()\n",
    "mxpbsl_multiplier = results_df['pbsl_multiplier'].max()\n",
    "distpbsl_multiplier = len(results_df['pbsl_multiplier'].unique())\n",
    "incrpbsl_multiplier = (mxpbsl_multiplier - mnpbsl_multiplier)/(distpbsl_multiplier-1)\n",
    "print('pbsl_multiplier         :    ' + str(mnpbsl_multiplier) + '        '+ str(mxpbsl_multiplier)  + '        '+ \n",
    "      str(incrpbsl_multiplier) )\n",
    "\n",
    "\n",
    "## voltimes - to determine that the \n",
    "mnvoltimes = results_df['voltimes'].min()\n",
    "mxvoltimes = results_df['voltimes'].max()\n",
    "distvoltimes = len(results_df['voltimes'].unique())\n",
    "incrvoltimes = (mxvoltimes - mnvoltimes)/(distvoltimes-1)\n",
    "print('voltimes                :    ' + str(mnvoltimes) + '      '+ str(mxvoltimes)  + '        '+ \n",
    "      str(incrvoltimes) )\n",
    "\n",
    "\n",
    "\n",
    "## gaprngextrngval\n",
    "mngaprngextrngval = results_df['gaprngextrngval'].min()\n",
    "mxgaprngextrngval = results_df['gaprngextrngval'].max()\n",
    "distgaprngextrngval = len(results_df['gaprngextrngval'].unique())\n",
    "incrgaprngextrngval = (mxgaprngextrngval - mngaprngextrngval)/(distgaprngextrngval-1)\n",
    "print('gaprngextrngval         :    ' + str(mngaprngextrngval) + '       '+ str(mxgaprngextrngval)  + '        '+ \n",
    "      str(incrgaprngextrngval) )\n",
    "\n",
    "\n",
    "\n",
    "## addlentrycushion\n",
    "mnaddlentrycushion = results_df['addlentrycushion'].min()\n",
    "mxaddlentrycushion = results_df['addlentrycushion'].max()\n",
    "distaddlentrycushion = len(results_df['addlentrycushion'].unique())\n",
    "incraddlentrycushion = (mxaddlentrycushion - mnaddlentrycushion)/(distaddlentrycushion-1)\n",
    "print('addlentrycushion        :    ' + str(mnaddlentrycushion) + '       '+ str(mxaddlentrycushion)  + '        '+ \n",
    "      str(incraddlentrycushion) )\n",
    "\n",
    "\n",
    "\n",
    "\n",
    "## addlslcushion\n",
    "mnaddlslcushion = results_df['addlslcushion'].min()\n",
    "mxaddlslcushion = results_df['addlslcushion'].max()\n",
    "distaddlslcushion = len(results_df['addlslcushion'].unique())\n",
    "incraddlslcushion = (mxaddlslcushion - mnaddlslcushion)/(distaddlslcushion-1)\n",
    "print('addlslcushion           :    ' + str(mnaddlslcushion) + '       '+ str(mxaddlslcushion)  + '        '+ \n",
    "      str(incraddlslcushion) )\n",
    "\n",
    "\n",
    "## trendbars\n",
    "mntrendbars = results_df['trendbars'].min()\n",
    "mxtrendbars = results_df['trendbars'].max()\n",
    "disttrendbars = len(results_df['trendbars'].unique())\n",
    "incrtrendbars = (mxtrendbars - mntrendbars)/(disttrendbars-1)\n",
    "print('trendbars               :    ' + str(mntrendbars) + '      '+ str(mxtrendbars)  + '        '+ \n",
    "      str(incrtrendbars) )\n",
    "\n",
    "\n",
    "## noshortval - indicator for trending up\n",
    "mnnoshortval = results_df['noshortval'].min()\n",
    "mxnoshortval = results_df['noshortval'].max()\n",
    "distnoshortval = len(results_df['noshortval'].unique())\n",
    "incrnoshortval = (mxnoshortval - mnnoshortval)/(distnoshortval-1)\n",
    "print('noshortval              :    ' + str(mnnoshortval) + '         '+ str(mxnoshortval)  + '        '+ \n",
    "      str(incrnoshortval) )\n",
    "\n",
    "\n",
    "## nolongval - indicator for trending down\n",
    "mnnolongval = results_df['nolongval'].min()\n",
    "mxnolongval = results_df['nolongval'].max()\n",
    "distnolongval = len(results_df['nolongval'].unique())\n",
    "incrnolongval = (mxnolongval - mnnolongval)/(distnolongval-1)\n",
    "print('nolongval               :    ' + str(mnnolongval) + '          '+ str(mxnolongval)  + '        '+ \n",
    "      str(incrnolongval) )"
   ]
  },
  {
   "cell_type": "code",
   "execution_count": null,
   "metadata": {},
   "outputs": [],
   "source": [
    "##optimization initial point to check the min trades -generally higher number of trades is desirable. Also depends\n",
    "##upon the time period. End of this step should provide a smaller sample for more detailed analysis. \n",
    "##if higher sample, then re-check the input\n",
    "notrades = 30\n",
    "print(len(results_df))\n",
    "print(len(results_df[results_df['# Trades']<notrades]))\n",
    "print(len(results_df[results_df['# Trades']<notrades])*100/len(results_df))"
   ]
  },
  {
   "cell_type": "markdown",
   "metadata": {},
   "source": [
    "### <left> Input Variables influencing the # Trades"
   ]
  },
  {
   "cell_type": "code",
   "execution_count": null,
   "metadata": {
    "scrolled": false
   },
   "outputs": [],
   "source": [
    "## results_df = results_df[(results_df['Net % Profit'] < -0)] - generally a validation to reduce the above step results to a lower number\n",
    "## results_df = results_df[(results_df['# Trades'] < 20)]\n",
    "colstoexplore = ['nbars', 'minrangeperc', 'maxrngperc', 'extrngmultiplier', 'extrngpercmultiplier', \n",
    "                 'pbsl_multiplier', 'voltimes', 'gaprngextrngval', 'addlentrycushion', 'addlslcushion',\n",
    "                 'trendbars', 'noshortval', 'nolongval']\n",
    "trades_df = pd.DataFrame()\n",
    "i = 0\n",
    "while i < len(colstoexplore):\n",
    "    colname = colstoexplore[i]\n",
    "    temp_df = results_df.groupby(colname, as_index = False).agg({'Net % Profit': 'mean'})\n",
    "    temp_df.columns = ['varval', 'count']\n",
    "    temp_df['variable'] = colname\n",
    "    trades_df = trades_df.append(temp_df)\n",
    "    i+=1\n",
    "    \n",
    "    \n",
    "inputvariables = trades_df['variable'].unique()\n",
    "fig = make_subplots(rows = len(inputvariables), cols = 1, subplot_titles = inputvariables)\n",
    "\n",
    "i = 0\n",
    "while i < len(inputvariables):\n",
    "    temp_df = trades_df[trades_df['variable'] == inputvariables[i]]\n",
    "    temp_df = temp_df.sort_values('varval')\n",
    "    fig.add_trace(go.Bar(x = temp_df['varval'], y = temp_df['count'], name = inputvariables[i]), \n",
    "                  row = i+1, col = 1)\n",
    "    i+=1\n",
    "fig.update_layout(showlegend = False, height = len(inputvariables)*150)\n",
    "fig.show()"
   ]
  },
  {
   "cell_type": "code",
   "execution_count": null,
   "metadata": {},
   "outputs": [],
   "source": [
    "results_df[results_df['Net % Profit'] == results_df['Net % Profit'].max()]"
   ]
  },
  {
   "cell_type": "markdown",
   "metadata": {},
   "source": [
    "### <left> Initial Exploration"
   ]
  },
  {
   "cell_type": "markdown",
   "metadata": {},
   "source": [
    "### <center> Distribution of KPIs"
   ]
  },
  {
   "cell_type": "code",
   "execution_count": null,
   "metadata": {},
   "outputs": [],
   "source": [
    "## Below charts will help to catch the anomalies and decide the best input conditions\n",
    "## results_df = results_df[(results_df['Max. Sys % Drawdown']<= -30)] \n",
    "##                        & (results_df['gaprangeperc']<= 1.5) \n",
    "##                        & (results_df['extrngpercmultiplier']<= 2) & (results_df['pbsl_multiplier']>= 2) \n",
    "##                        & (results_df['nbars'] >= 30)]\n",
    "##results_df = results_df[(results_df['nbars'] >= 50)]\n",
    "print(len(results_df))\n",
    "fig = make_subplots(rows = 3, cols = 2, subplot_titles = [ '%NP', 'Max DD', 'UI', 'SE', '% Winners', '# Trades'])\n",
    "fig.add_trace(go.Histogram(x = results_df['Net % Profit'], name = '%NP'), row = 1, col = 1)\n",
    "fig.add_trace(go.Histogram(x = results_df['Max. Sys % Drawdown'], name = 'Max DD'), row = 1, col = 2)\n",
    "fig.add_trace(go.Histogram(x = results_df['adjUI'], name = 'adjUI'), row = 2, col = 1)\n",
    "fig.add_trace(go.Histogram(x = results_df['adjstderr'], name = 'SE'), row = 2, col = 2)\n",
    "fig.add_trace(go.Histogram(x = results_df['% of Winners'], name = '% Winners'), row = 3, col = 1)\n",
    "fig.add_trace(go.Histogram(x = results_df['# Trades'], name = '# Trades'), row = 3, col = 2)\n",
    "fig.update_layout(showlegend = False, height = 750)\n",
    "fig.show()"
   ]
  },
  {
   "cell_type": "markdown",
   "metadata": {},
   "source": [
    "### <center> Min and Max ranges of KPIs"
   ]
  },
  {
   "cell_type": "code",
   "execution_count": null,
   "metadata": {},
   "outputs": [],
   "source": [
    "minwin = results_df['% of Winners'].min()\n",
    "maxwin = results_df['% of Winners'].max()\n",
    "mindd = abs(results_df['Max. Sys % Drawdown']).min()\n",
    "maxdd = abs(results_df['Max. Sys % Drawdown']).max()\n",
    "minnp = results_df['Net % Profit'].min()\n",
    "maxnp = results_df['Net % Profit'].max()\n",
    "minui = results_df['Ulcer Index'].min()\n",
    "maxui = results_df['Ulcer Index'].max()\n",
    "mintrades = results_df['# Trades'].min()\n",
    "maxtrades = results_df['# Trades'].max()\n",
    "minstderr = results_df['adjstderr'].min()\n",
    "maxstderr = results_df['adjstderr'].max()\n",
    "\n",
    "print('max NP %   : ' + str(maxnp) + '           |        min NP%    :' + str(minnp))\n",
    "print('min UI     : ' + str(minui) + '              |        max UI     :  ' + str(maxui))\n",
    "print('min DD %   : ' + str(mindd) + '              |        max DD%    : '  + str(maxdd))\n",
    "print('min Trades : ' + str(mintrades) + '                |        max trades :  ' + str(maxtrades))\n",
    "print('max Win %  : ' + str(maxwin) + '            |        min Win%   : ' + str(minwin))\n",
    "print('min StdErr : ' + str(minstderr) + '       |        max StdErr :  ' + str(maxstderr))"
   ]
  },
  {
   "cell_type": "markdown",
   "metadata": {},
   "source": [
    "### <center> Filtering Combinations by values (Manual Input)"
   ]
  },
  {
   "cell_type": "code",
   "execution_count": null,
   "metadata": {},
   "outputs": [],
   "source": [
    "##play around with sequencing and understand the differences\n",
    "\n",
    "minnetprofit = [70, 90]\n",
    "minui = [-10, -6]\n",
    "mindd = [-20, -12]\n",
    "mintrades = [40, 50]\n",
    "minwinperc = [45, 70]\n",
    "minstderr = [-65000, -50000]\n",
    "\n",
    "postnp_df = results_df[(results_df['Net % Profit'] >= minnetprofit[0]) \n",
    "                       & (results_df['Net % Profit'] <= minnetprofit[1])]\n",
    "print(str(len(postnp_df))+ ' combinations have NP in the range of         ' + str(minnetprofit[0]) + ' - ' \n",
    "      +  str(minnetprofit[1]) + '%       out of '  + str(len(results_df)) + ' approx ~' \n",
    "      +  str(round(len(postnp_df)*100/len(results_df),2)) + '%.')\n",
    "\n",
    "postnpui_df = postnp_df[(postnp_df['adjUI'] >= minui[0]) & \n",
    "                        (postnp_df['adjUI'] <= minui[1])]\n",
    "print(str(len(postnpui_df))+ ' combinations have UI in the range of         ' + str(minui[0]) + ' - ' \n",
    "      + str(minui[1])+ '       out of ' + str(len(results_df)) \n",
    "      + ' approx ~' +  str(round(len(postnpui_df)*100/len(results_df),2)) + '%.')\n",
    "\n",
    "postnpuidd_df = postnpui_df[(postnpui_df['Max. Sys % Drawdown'] >= mindd[0]) & \n",
    "                            (postnpui_df['Max. Sys % Drawdown'] <= mindd[1])]\n",
    "print(str(len(postnpuidd_df))+ ' combinations have DD in the range of           ' + str(mindd[0]) + ' - '+ str(mindd[1])\n",
    "      + '       out of ' + str(len(results_df)) + ' approx ~' \n",
    "      +  str(round(len(postnpuidd_df)*100/len(results_df),2)) + '%.')\n",
    "\n",
    "postnpuiddtrades_df = postnpuidd_df[(postnpuidd_df['# Trades'] >= mintrades[0]) & \n",
    "                                   (postnpuidd_df['# Trades'] <= mintrades[1])]\n",
    "print(str(len(postnpuiddtrades_df))+ ' combinations have Trades in the range of       ' + str(mintrades[0])+ ' - ' \n",
    "      + str(mintrades[0]) + '         out of ' + str(len(results_df)) + ' approx ~' \n",
    "      +  str(round(len(postnpuiddtrades_df)*100/len(results_df),2)) + '%.')\n",
    "\n",
    "\n",
    "postnpuiddtradeswinperc_df = postnpuiddtrades_df[(postnpuiddtrades_df['% of Winners'] >= minwinperc[0]) &\n",
    "                                                (postnpuiddtrades_df['% of Winners'] <= minwinperc[1]) ]\n",
    "print(str(len(postnpuiddtradeswinperc_df))+ ' combinations have % of Winners in the range of    ' \n",
    "      + str(minwinperc[0]) + ' - ' + str(minwinperc[1]) \n",
    "      + '      out of ' + str(len(results_df)) + ' approx ~' \n",
    "      +  str(round(len(postnpuiddtradeswinperc_df)*100/len(results_df),2)) + '%.')\n",
    "\n",
    "final_df = postnpuiddtradeswinperc_df[(postnpuiddtradeswinperc_df['adjstderr'] >= minstderr[0]) & \n",
    "                                      (postnpuiddtradeswinperc_df['adjstderr'] <= minstderr[1])]\n",
    "print(str(len(final_df))+ ' combinations have Std Error in the range of     ' + str(minstderr[0]) + ' - ' \n",
    "      +   str(minstderr[1]) + '      out of ' + str(len(results_df)) + ' approx ~'\n",
    "      +  str(round(len(final_df)*100/len(results_df),2)) \n",
    "      + '%.')\n"
   ]
  },
  {
   "cell_type": "markdown",
   "metadata": {},
   "source": [
    "### <center> Verifying filtered results"
   ]
  },
  {
   "cell_type": "markdown",
   "metadata": {},
   "source": [
    "### <left> Distribution of KPIs on filtered combinations"
   ]
  },
  {
   "cell_type": "code",
   "execution_count": null,
   "metadata": {},
   "outputs": [],
   "source": [
    "fig = make_subplots(rows = 3, cols = 2, subplot_titles = ['%NP', 'Max DD', '% Winners', '# Trades', 'UI', 'SE'])\n",
    "fig.add_trace(go.Histogram(x = final_df['Net % Profit'], name = '%NP'), row = 1, col = 1)\n",
    "fig.add_trace(go.Histogram(x = final_df['Max. Sys % Drawdown'], name = 'Max DD'), row = 1, col = 2)\n",
    "fig.add_trace(go.Histogram(x = final_df['% of Winners'], name = '% Winners'), row = 2, col = 1)\n",
    "fig.add_trace(go.Histogram(x = final_df['# Trades'], name = '# Trades'), row = 2, col = 2)\n",
    "fig.add_trace(go.Histogram(x = final_df['adjUI'], name = 'adjUI'), row = 3, col = 1)\n",
    "fig.add_trace(go.Histogram(x = final_df['adjstderr'], name = 'SE'), row = 3, col = 2)\n",
    "fig.update_layout(showlegend = False)\n",
    "fig.show()"
   ]
  },
  {
   "cell_type": "code",
   "execution_count": null,
   "metadata": {},
   "outputs": [],
   "source": [
    "final_df.to_csv('testanalysis.csv')"
   ]
  },
  {
   "cell_type": "code",
   "execution_count": null,
   "metadata": {},
   "outputs": [],
   "source": [
    "##table view of the above charts\n",
    "fn_minwin = final_df['% of Winners'].min()\n",
    "fn_maxwin = final_df['% of Winners'].max()\n",
    "fn_mindd = abs(final_df['Max. Sys % Drawdown']).min()\n",
    "fn_maxdd = abs(final_df['Max. Sys % Drawdown']).max()\n",
    "fn_minnp = final_df['Net % Profit'].min()\n",
    "fn_maxnp = final_df['Net % Profit'].max()\n",
    "fn_minui = final_df['Ulcer Index'].min()\n",
    "fn_maxui = final_df['Ulcer Index'].max()\n",
    "fn_mintrades = final_df['# Trades'].min()\n",
    "fn_maxtrades = final_df['# Trades'].max()\n",
    "fn_minstderr = final_df['adjstderr'].min()\n",
    "fn_maxstderr = final_df['adjstderr'].max()\n",
    "\n",
    "print('max NP %   : ' + str(fn_maxnp) + '            |        min NP%    :' + str(fn_minnp))\n",
    "print('min UI     : ' + str(fn_minui) + '             |        max UI     :  ' + str(fn_maxui))\n",
    "print('min DD %   : ' + str(fn_mindd) + '             |        max DD%    : '  + str(fn_maxdd))\n",
    "print('min Trades : ' + str(fn_mintrades) + '               |        max trades :  ' + str(fn_maxtrades))\n",
    "print('max Win %  : ' + str(fn_maxwin) + '            |        min Win%   : ' + str(fn_minwin))\n",
    "print('min StdErr : ' + str(fn_minstderr) + '        |        max StdErr :  ' + str(fn_maxstderr))"
   ]
  },
  {
   "cell_type": "code",
   "execution_count": null,
   "metadata": {
    "scrolled": false
   },
   "outputs": [],
   "source": [
    "inputs_df = pd.DataFrame()\n",
    "i = 0\n",
    "while i < len(colstoexplore):\n",
    "    colname = colstoexplore[i]\n",
    "    temp_df = final_df.groupby([colname], as_index = False).agg({'Net % Profit': ['mean','count']})\n",
    "    temp_df.columns = temp_df.columns.droplevel()\n",
    "    temp_df.columns = ['val', 'mean', 'count']\n",
    "    temp_df['input'] = colname\n",
    "    inputs_df = inputs_df.append(temp_df)\n",
    "    i+=1\n",
    "\n",
    "\n",
    "\n",
    "fig = make_subplots(rows = len(colstoexplore), cols = 1, subplot_titles = colstoexplore, \n",
    "                    specs = [[{\"secondary_y\": True}], [{\"secondary_y\": True}], [{\"secondary_y\": True}],\n",
    "                             [{\"secondary_y\": True}], [{\"secondary_y\": True}], [{\"secondary_y\": True}],\n",
    "                             [{\"secondary_y\": True}], [{\"secondary_y\": True}], [{\"secondary_y\": True}],\n",
    "                             [{\"secondary_y\": True}], [{\"secondary_y\": True}], [{\"secondary_y\": True}], \n",
    "                             [{\"secondary_y\": True}]])\n",
    "i = 0\n",
    "while i < len(colstoexplore):\n",
    "    temp_df = inputs_df[inputs_df['input'] == colstoexplore[i]]\n",
    "    temp_df = temp_df.sort_values('val')\n",
    "    fig.add_trace(go.Bar(x = temp_df['val'], y = temp_df['count'], name = 'count'), row = i+1, col = 1)\n",
    "    fig.add_trace(go.Scatter(x = temp_df['val'], y = temp_df['mean'], name = 'mean'), secondary_y = True, \n",
    "                  row = i+1, col = 1)\n",
    "    i+=1\n",
    "fig.update_layout(showlegend = False, height = len(colstoexplore)*200)\n",
    "fig.show()"
   ]
  },
  {
   "cell_type": "code",
   "execution_count": null,
   "metadata": {},
   "outputs": [],
   "source": [
    "final_df"
   ]
  },
  {
   "cell_type": "markdown",
   "metadata": {},
   "source": [
    "## <center> Step1 : Combining Target Metrics into Score using MinMaxScaler"
   ]
  },
  {
   "cell_type": "code",
   "execution_count": null,
   "metadata": {},
   "outputs": [],
   "source": [
    "## from sklearn.compose import ColumnTransformer\n",
    "from sklearn.preprocessing import MinMaxScaler\n",
    "\n",
    "weight_np = 1\n",
    "weight_ui = 1\n",
    "weight_trades = 1\n",
    "weight_stderr = 0.5\n",
    "weight_dd = 0.5\n",
    "weight_wins = 0.25\n",
    "\n",
    "totalweights = weight_np + weight_dd + weight_ui + weight_trades + weight_wins + weight_stderr\n",
    "\n",
    "data = final_df[['Net % Profit', 'Max. Sys % Drawdown',  'adjUI', '# Trades', '% of Winners', 'adjstderr']]\n",
    "\n",
    "scaler = MinMaxScaler()\n",
    "scaler.fit(data)\n",
    "scaled_data = scaler.transform(data)\n",
    "results_scaled_df = pd.DataFrame(scaled_data)\n",
    "results_scaled_df.columns = ['np_scaled', 'dd_scaled',  'ui_scaled', 'trades_scaled', 'win_scaled', 'stderr_scaled']\n",
    "\n",
    "results1_df = pd.merge(results_df, results_scaled_df, how = 'inner', left_on = results_df.index, \n",
    "                       right_on = results_scaled_df.index)\n",
    "\n",
    "results1_df['score'] = results1_df['np_scaled'] * weight_np + results1_df['dd_scaled'] * weight_dd + results1_df['ui_scaled'] * weight_ui + results1_df['trades_scaled'] * weight_trades + results1_df['win_scaled']* weight_wins + results1_df['stderr_scaled']*weight_stderr\n",
    "results1_df = results1_df.drop(['key_0'], axis = 1)\n",
    "result2_df = results1_df[['score', 'Net % Profit', 'Max. Sys % Drawdown', '# Trades', '% of Winners', 'Ulcer Index', \n",
    "                          'Standard Error',  'nbars', 'minrangeperc', 'gaprangeperc', 'extrngmultiplier', \n",
    "                          'extrngpercmultiplier', 'pbsl_multiplier', 'voltimes', 'addlslcushion',  'trendbars', \n",
    "                          'noshortval', 'nolongval']]"
   ]
  },
  {
   "cell_type": "markdown",
   "metadata": {},
   "source": [
    "## <center> Exploring the Results based on Calculated Score"
   ]
  },
  {
   "cell_type": "code",
   "execution_count": null,
   "metadata": {},
   "outputs": [],
   "source": [
    "perc = 95\n",
    "\n",
    "mxscore = result2_df['score'].max()\n",
    "mnscore = result2_df['score'].min()\n",
    "tgtscore = mnscore + ((mxscore - mnscore)*perc/100)\n",
    "\n",
    "print('Min Score - ' + str(round(mnscore,3)))\n",
    "print('Max Score - ' + str(round(mxscore,3)))\n",
    "print('Target Score >= ' + str(round(tgtscore,3)) + ' out of a max score of '+ str(round(totalweights,2)))\n",
    "\n",
    "score_df = result2_df[result2_df['score']>= tgtscore]\n",
    "score_df.reset_index(inplace = True)\n",
    "score_df = score_df.drop('index', axis = 1)\n",
    "\n",
    "\n",
    "print('Combinations in top ' + str(100-perc) + ' percentile are: ' + str(len(score_df)))"
   ]
  },
  {
   "cell_type": "code",
   "execution_count": null,
   "metadata": {},
   "outputs": [],
   "source": [
    "bst1minnp = score_df['Net % Profit'].min()\n",
    "bst1maxnp = score_df['Net % Profit'].max()\n",
    "\n",
    "print('Best combinations have a NP Percentile range of      ' \n",
    "      + str(round((bst1minnp - minnp)*100/(maxnp-minnp),2)) + ' - ' \n",
    "      + str(round((bst1maxnp - minnp)*100/(maxnp-minnp),2)) + '    with values between '\n",
    "      + str(bst1minnp) + \" - \" + str(bst1maxnp))\n",
    "\n",
    "\n",
    "bst1minwin = score_df['% of Winners'].min()\n",
    "bst1maxwin = score_df['% of Winners'].max()\n",
    "\n",
    "print('Best combinations have a Win% Percentile range of    ' \n",
    "      + str(round((bst1maxwin - minwin)*100/(maxwin-minwin),2)) + ' - ' \n",
    "      + str(round((bst1maxwin - minwin)*100/(maxwin-minwin),2)) + '    with values between ' \n",
    "      + str(bst1minwin) + \" - \"  + str(bst1maxwin)) \n",
    "    \n",
    "\n",
    "bst1mindd = abs(score_df['Max. Sys % Drawdown']).min()\n",
    "bst1maxdd = abs(score_df['Max. Sys % Drawdown']).max()\n",
    "\n",
    "print('Best combinations have a DD Percentile range of      ' \n",
    "      + str(round((1 - (bst1maxdd - mindd)/(maxdd-mindd))*100,2)) + ' - ' \n",
    "      + str(round((1 - (bst1mindd - mindd)/(maxdd-mindd))*100,2)) + '     with values between ' \n",
    "      + str(bst1mindd) + \" - \"  + str(bst1maxdd)) \n",
    "\n",
    "\n",
    "bst1minui = score_df['Ulcer Index'].min()\n",
    "bst1maxui = score_df['Ulcer Index'].max()\n",
    "\n",
    "\n",
    "print('Best combinations have a UI Percentile range of      ' \n",
    "      + str(round((1 - (bst1maxui - minui)/(maxui-minui))*100,2)) + ' - ' \n",
    "      + str(round((1 - (bst1minui - minui)/(maxui-minui))*100,2))+ '    with values between ' \n",
    "      + str(bst1minui) + \" - \"  + str(bst1maxui)) \n",
    "\n",
    "\n",
    "\n",
    "bst1mintrades = score_df['# Trades'].min()\n",
    "bst1maxtrades = score_df['# Trades'].max()\n",
    "\n",
    "\n",
    "print('Best combinations have a #Trades Percentile range of ' \n",
    "      + str(round((1 - (bst1maxtrades - mintrades)/(maxtrades-mintrades))*100,2)) + ' - ' \n",
    "      + str(round((1 - (bst1mintrades - mintrades)/(maxtrades-mintrades))*100,2)) + '    with values between ' \n",
    "      + str(bst1mintrades) + \" - \"  + str(bst1maxtrades)) \n",
    "\n",
    "\n",
    "\n",
    "\n",
    "bst1minstderr = score_df['Standard Error'].min()\n",
    "bst1maxstderr = score_df['Standard Error'].max()\n",
    "\n",
    "\n",
    "print('Best combinations have a StdErr Percentile range of ' \n",
    "      + str(round((1 - (bst1maxstderr - minstderr)/(maxstderr-minstderr))*100,2)) + ' - ' \n",
    "      + str(round((1 - (bst1minstderr - minstderr)/(maxstderr-minstderr))*100,2)) + '    with values between ' \n",
    "      + str(bst1minstderr) + \" - \"  + str(bst1maxstderr)) "
   ]
  },
  {
   "cell_type": "code",
   "execution_count": null,
   "metadata": {},
   "outputs": [],
   "source": [
    "score_df.head(100)"
   ]
  }
 ],
 "metadata": {
  "kernelspec": {
   "display_name": "Python 3",
   "language": "python",
   "name": "python3"
  },
  "language_info": {
   "codemirror_mode": {
    "name": "ipython",
    "version": 3
   },
   "file_extension": ".py",
   "mimetype": "text/x-python",
   "name": "python",
   "nbconvert_exporter": "python",
   "pygments_lexer": "ipython3",
   "version": "3.8.5"
  }
 },
 "nbformat": 4,
 "nbformat_minor": 4
}
